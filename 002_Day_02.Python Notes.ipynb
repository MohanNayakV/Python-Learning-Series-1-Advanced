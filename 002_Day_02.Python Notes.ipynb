{
 "cells": [
  {
   "cell_type": "markdown",
   "id": "b46fd40f",
   "metadata": {},
   "source": [
    "### Python Notes\n",
    "\n",
    "#### Notes Prepared by Mohan Nayak\n",
    "###### You can follow me on linkedin https://www.linkedin.com/in/mohan-nayak-49954392?lipi=urn%3Ali%3Apage%3Ad_flagship3_profile_view_base_contact_details%3BQ6mx07N%2FTOqTI9Op6fyvWA%3D%3D"
   ]
  },
  {
   "cell_type": "markdown",
   "id": "5b2b0a04",
   "metadata": {},
   "source": [
    "# Logical operators\n",
    "#### AND\n",
    "#### OR\n",
    "#### NOT"
   ]
  },
  {
   "cell_type": "code",
   "execution_count": 3,
   "id": "881b1e7d",
   "metadata": {},
   "outputs": [
    {
     "data": {
      "text/plain": [
       "True"
      ]
     },
     "execution_count": 3,
     "metadata": {},
     "output_type": "execute_result"
    }
   ],
   "source": [
    "# AND\n",
    "True and True"
   ]
  },
  {
   "cell_type": "code",
   "execution_count": 2,
   "id": "ac0d3a2c",
   "metadata": {},
   "outputs": [
    {
     "data": {
      "text/plain": [
       "False"
      ]
     },
     "execution_count": 2,
     "metadata": {},
     "output_type": "execute_result"
    }
   ],
   "source": [
    "# AND\n",
    "True and False"
   ]
  },
  {
   "cell_type": "code",
   "execution_count": 4,
   "id": "88792e12",
   "metadata": {},
   "outputs": [
    {
     "data": {
      "text/plain": [
       "True"
      ]
     },
     "execution_count": 4,
     "metadata": {},
     "output_type": "execute_result"
    }
   ],
   "source": [
    "# OR\n",
    "True or False"
   ]
  },
  {
   "cell_type": "code",
   "execution_count": 5,
   "id": "80d1d8cd",
   "metadata": {},
   "outputs": [
    {
     "data": {
      "text/plain": [
       "False"
      ]
     },
     "execution_count": 5,
     "metadata": {},
     "output_type": "execute_result"
    }
   ],
   "source": [
    "# NOT\n",
    "not True"
   ]
  },
  {
   "cell_type": "code",
   "execution_count": 6,
   "id": "ff57cfc5",
   "metadata": {},
   "outputs": [
    {
     "data": {
      "text/plain": [
       "True"
      ]
     },
     "execution_count": 6,
     "metadata": {},
     "output_type": "execute_result"
    }
   ],
   "source": [
    "not bool(0)"
   ]
  },
  {
   "cell_type": "code",
   "execution_count": 7,
   "id": "0ae58f6e",
   "metadata": {},
   "outputs": [
    {
     "data": {
      "text/plain": [
       "0"
      ]
     },
     "execution_count": 7,
     "metadata": {},
     "output_type": "execute_result"
    }
   ],
   "source": [
    "int(bool(0))"
   ]
  },
  {
   "cell_type": "code",
   "execution_count": 8,
   "id": "8f3e7ac8",
   "metadata": {},
   "outputs": [
    {
     "data": {
      "text/plain": [
       "True"
      ]
     },
     "execution_count": 8,
     "metadata": {},
     "output_type": "execute_result"
    }
   ],
   "source": [
    "not(0)"
   ]
  },
  {
   "cell_type": "code",
   "execution_count": 9,
   "id": "5e9f2d5e",
   "metadata": {},
   "outputs": [
    {
     "data": {
      "text/plain": [
       "False"
      ]
     },
     "execution_count": 9,
     "metadata": {},
     "output_type": "execute_result"
    }
   ],
   "source": [
    "not(-1)"
   ]
  },
  {
   "cell_type": "code",
   "execution_count": 10,
   "id": "cc0f03bd",
   "metadata": {},
   "outputs": [
    {
     "data": {
      "text/plain": [
       "True"
      ]
     },
     "execution_count": 10,
     "metadata": {},
     "output_type": "execute_result"
    }
   ],
   "source": [
    "bool(132)"
   ]
  },
  {
   "cell_type": "code",
   "execution_count": 11,
   "id": "0168762d",
   "metadata": {},
   "outputs": [
    {
     "data": {
      "text/plain": [
       "2"
      ]
     },
     "execution_count": 11,
     "metadata": {},
     "output_type": "execute_result"
    }
   ],
   "source": [
    "True+True"
   ]
  },
  {
   "cell_type": "markdown",
   "id": "449a2f68",
   "metadata": {},
   "source": [
    "# Presedance rule - BODMAS RULE\n",
    "****"
   ]
  },
  {
   "cell_type": "code",
   "execution_count": 12,
   "id": "bf967781",
   "metadata": {},
   "outputs": [
    {
     "data": {
      "text/plain": [
       "True"
      ]
     },
     "execution_count": 12,
     "metadata": {},
     "output_type": "execute_result"
    }
   ],
   "source": [
    "not True * False"
   ]
  },
  {
   "cell_type": "code",
   "execution_count": 13,
   "id": "bb416e99",
   "metadata": {},
   "outputs": [
    {
     "data": {
      "text/plain": [
       "0"
      ]
     },
     "execution_count": 13,
     "metadata": {},
     "output_type": "execute_result"
    }
   ],
   "source": [
    "(not True)* False"
   ]
  },
  {
   "cell_type": "markdown",
   "id": "d1dad524",
   "metadata": {},
   "source": [
    "# COMPARISION OPEATORS"
   ]
  },
  {
   "cell_type": "markdown",
   "id": "3c10c44a",
   "metadata": {},
   "source": [
    "**IS - if a==b , then true, i.e a and b are same objects.**\n",
    "\n",
    "**IS NOT - if a not equal to b, then true, i.e a nd b are different objects.**\n",
    "\n",
    "**== - if a=b, then true**\n",
    "\n",
    "**!= - if a not equal to b , then true**"
   ]
  },
  {
   "cell_type": "code",
   "execution_count": 15,
   "id": "90333149",
   "metadata": {},
   "outputs": [
    {
     "name": "stdout",
     "output_type": "stream",
     "text": [
      "2127216536128 2127216415872\n"
     ]
    }
   ],
   "source": [
    "list1 = [1, 2, 3, 4, 5]\n",
    "list2 = [1, 2, 3, 4, 5]\n",
    "\n",
    "print(id(list1),id(list2))\n",
    "\n",
    "# In the above block of code we got different id's because List is mutable so the two lists"
   ]
  },
  {
   "cell_type": "code",
   "execution_count": 16,
   "id": "00004852",
   "metadata": {},
   "outputs": [
    {
     "data": {
      "text/plain": [
       "1"
      ]
     },
     "execution_count": 16,
     "metadata": {},
     "output_type": "execute_result"
    }
   ],
   "source": [
    "list1[0]"
   ]
  },
  {
   "cell_type": "code",
   "execution_count": 19,
   "id": "9ab667ff",
   "metadata": {},
   "outputs": [],
   "source": [
    "list1[0]=10"
   ]
  },
  {
   "cell_type": "code",
   "execution_count": 20,
   "id": "a94cf4db",
   "metadata": {},
   "outputs": [
    {
     "data": {
      "text/plain": [
       "[10, 2, 3, 4, 5]"
      ]
     },
     "execution_count": 20,
     "metadata": {},
     "output_type": "execute_result"
    }
   ],
   "source": [
    "list1"
   ]
  },
  {
   "cell_type": "code",
   "execution_count": 21,
   "id": "8b97d2db",
   "metadata": {},
   "outputs": [
    {
     "data": {
      "text/plain": [
       "[1, 2, 3, 4, 5]"
      ]
     },
     "execution_count": 21,
     "metadata": {},
     "output_type": "execute_result"
    }
   ],
   "source": [
    "list1[0]=1\n",
    "list1"
   ]
  },
  {
   "cell_type": "code",
   "execution_count": 22,
   "id": "5a8115fb",
   "metadata": {},
   "outputs": [
    {
     "data": {
      "text/plain": [
       "False"
      ]
     },
     "execution_count": 22,
     "metadata": {},
     "output_type": "execute_result"
    }
   ],
   "source": [
    "list1 is list2"
   ]
  },
  {
   "cell_type": "code",
   "execution_count": 23,
   "id": "203e9fa2",
   "metadata": {},
   "outputs": [
    {
     "data": {
      "text/plain": [
       "True"
      ]
     },
     "execution_count": 23,
     "metadata": {},
     "output_type": "execute_result"
    }
   ],
   "source": [
    "list1 is not list2"
   ]
  },
  {
   "cell_type": "code",
   "execution_count": 24,
   "id": "fe053f4f",
   "metadata": {},
   "outputs": [
    {
     "data": {
      "text/plain": [
       "True"
      ]
     },
     "execution_count": 24,
     "metadata": {},
     "output_type": "execute_result"
    }
   ],
   "source": [
    "list1==list2"
   ]
  },
  {
   "cell_type": "code",
   "execution_count": 26,
   "id": "7d047f51",
   "metadata": {},
   "outputs": [
    {
     "data": {
      "text/plain": [
       "False"
      ]
     },
     "execution_count": 26,
     "metadata": {},
     "output_type": "execute_result"
    }
   ],
   "source": [
    "list1!=list2"
   ]
  },
  {
   "cell_type": "markdown",
   "id": "dee111ce",
   "metadata": {},
   "source": [
    "# Checking Mutability of int and string\n",
    "***"
   ]
  },
  {
   "cell_type": "code",
   "execution_count": 27,
   "id": "a7d7faba",
   "metadata": {},
   "outputs": [
    {
     "data": {
      "text/plain": [
       "(140736680875112, 140736680875112)"
      ]
     },
     "execution_count": 27,
     "metadata": {},
     "output_type": "execute_result"
    }
   ],
   "source": [
    "a = 11\n",
    "b = 11\n",
    "id(a),id(b)"
   ]
  },
  {
   "cell_type": "code",
   "execution_count": 29,
   "id": "12db56f0",
   "metadata": {},
   "outputs": [
    {
     "data": {
      "text/plain": [
       "(2127216540656, 2127216540656)"
      ]
     },
     "execution_count": 29,
     "metadata": {},
     "output_type": "execute_result"
    }
   ],
   "source": [
    "a = \"Mohan\"\n",
    "b = \"Mohan\"\n",
    "id(a), id(b)"
   ]
  },
  {
   "cell_type": "code",
   "execution_count": 33,
   "id": "6eea941f",
   "metadata": {},
   "outputs": [
    {
     "data": {
      "text/plain": [
       "0"
      ]
     },
     "execution_count": 33,
     "metadata": {},
     "output_type": "execute_result"
    }
   ],
   "source": [
    "a [0]"
   ]
  },
  {
   "cell_type": "markdown",
   "id": "1146789a",
   "metadata": {},
   "source": [
    "# Arthmetic Opertions\n",
    "**+ - Addition**\n",
    "\n",
    "**- - Substraction**\n",
    "\n",
    "##### * - Multiply\n",
    "\n",
    "**/ - Division**\n",
    "\n",
    "**// - Division without decimal values**\n",
    "\n",
    "**% - Remainder**"
   ]
  },
  {
   "cell_type": "code",
   "execution_count": 34,
   "id": "e181d4c4",
   "metadata": {},
   "outputs": [
    {
     "data": {
      "text/plain": [
       "40"
      ]
     },
     "execution_count": 34,
     "metadata": {},
     "output_type": "execute_result"
    }
   ],
   "source": [
    "# Addition\n",
    "a = 25\n",
    "b = 15\n",
    "a + b"
   ]
  },
  {
   "cell_type": "code",
   "execution_count": 35,
   "id": "94aff0be",
   "metadata": {},
   "outputs": [
    {
     "data": {
      "text/plain": [
       "4"
      ]
     },
     "execution_count": 35,
     "metadata": {},
     "output_type": "execute_result"
    }
   ],
   "source": [
    "# Substraction\n",
    "a = 13\n",
    "b = 9\n",
    "a - b"
   ]
  },
  {
   "cell_type": "code",
   "execution_count": 36,
   "id": "2c0f0c51",
   "metadata": {},
   "outputs": [
    {
     "data": {
      "text/plain": [
       "42"
      ]
     },
     "execution_count": 36,
     "metadata": {},
     "output_type": "execute_result"
    }
   ],
   "source": [
    "# Multiply\n",
    "a = 6\n",
    "b = 7\n",
    "\n",
    "a * b"
   ]
  },
  {
   "cell_type": "code",
   "execution_count": 37,
   "id": "80230a27",
   "metadata": {},
   "outputs": [
    {
     "data": {
      "text/plain": [
       "1.6"
      ]
     },
     "execution_count": 37,
     "metadata": {},
     "output_type": "execute_result"
    }
   ],
   "source": [
    "# Division\n",
    "a = 8\n",
    "b = 5\n",
    "\n",
    "a / b"
   ]
  },
  {
   "cell_type": "code",
   "execution_count": 38,
   "id": "98d9207f",
   "metadata": {},
   "outputs": [
    {
     "data": {
      "text/plain": [
       "0"
      ]
     },
     "execution_count": 38,
     "metadata": {},
     "output_type": "execute_result"
    }
   ],
   "source": [
    "# Division without decimal values\n",
    "\n",
    "a = 4\n",
    "b = 9\n",
    "a // b"
   ]
  },
  {
   "cell_type": "code",
   "execution_count": 39,
   "id": "8d1b35d4",
   "metadata": {},
   "outputs": [
    {
     "data": {
      "text/plain": [
       "3"
      ]
     },
     "execution_count": 39,
     "metadata": {},
     "output_type": "execute_result"
    }
   ],
   "source": [
    "# Remainder\n",
    "\n",
    "a = 8\n",
    "b = 5\n",
    "\n",
    "a % b"
   ]
  },
  {
   "cell_type": "code",
   "execution_count": null,
   "id": "2dd15dcb",
   "metadata": {},
   "outputs": [],
   "source": []
  }
 ],
 "metadata": {
  "kernelspec": {
   "display_name": "Python 3 (ipykernel)",
   "language": "python",
   "name": "python3"
  },
  "language_info": {
   "codemirror_mode": {
    "name": "ipython",
    "version": 3
   },
   "file_extension": ".py",
   "mimetype": "text/x-python",
   "name": "python",
   "nbconvert_exporter": "python",
   "pygments_lexer": "ipython3",
   "version": "3.11.0"
  }
 },
 "nbformat": 4,
 "nbformat_minor": 5
}
