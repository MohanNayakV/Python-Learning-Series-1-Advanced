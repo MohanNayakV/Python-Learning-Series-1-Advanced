{
 "cells": [
  {
   "cell_type": "markdown",
   "id": "861fa691",
   "metadata": {},
   "source": [
    "### Python Notes\n",
    "\n",
    "#### Notes Prepared by Mohan Nayak\n",
    "###### You can follow me on linkedin https://www.linkedin.com/in/mohan-nayak-49954392?lipi=urn%3Ali%3Apage%3Ad_flagship3_profile_view_base_contact_details%3BQ6mx07N%2FTOqTI9Op6fyvWA%3D%3D\n"
   ]
  },
  {
   "cell_type": "markdown",
   "id": "d241cae1",
   "metadata": {},
   "source": [
    "# Python: \n",
    "Python is a high-level, object-oriented, interpreted language that can be applied to various fields such as web development, machine learning, data analysis, etc.\n",
    "\n",
    "# Why Python: \n",
    " * Python is known for its straightforward syntax and ease of use, making it a popular choice for beginners.\n",
    " * With over 127,000+ libraries available, it offers a vast range of possibilities for developers to work with. \n",
    " * Python is widely used across various domains such as web development, machine learning, artificial intelligence, and more. \n",
    " * Python is a Dynamic Language.\n",
    " \n",
    " # Variables: \n",
    " Variables are named places in memory where values can be stored for later use."
   ]
  },
  {
   "cell_type": "raw",
   "id": "875cc03b",
   "metadata": {},
   "source": [
    "  a = 15\n",
    "  b = \"Mohan\""
   ]
  },
  {
   "cell_type": "markdown",
   "id": "26f752b6",
   "metadata": {},
   "source": [
    "In the above statement \"a = 15 and b = \"Mohan\", \"a\" and \"b\" are examples of variables\n",
    "that are assigned the values 15 and \"Mohan\", respectively."
   ]
  },
  {
   "cell_type": "markdown",
   "id": "56d6cb64",
   "metadata": {},
   "source": [
    "### Rules of Declaring a Variable:\n",
    "#### There are certain rules while declaring variables such as:\n",
    "\n",
    "  * Variable names shouldn’t start with a Number.\n",
    "  * There shouldn’t be gaps while declaring a variable.\n",
    "  * Python, variables are case-sensitive, meaning that \"Name\" and \"name\" are\n",
    "    considered two different variables."
   ]
  },
  {
   "cell_type": "raw",
   "id": "1f5b1d2f",
   "metadata": {},
   "source": [
    "\n",
    "1name=10 #This is not a correct way\n",
    "Id no=1739 #This is not a correct way\n",
    "\n",
    "#Instead we can use the below methods\n",
    "\n",
    "name3=10 #This is a correct way\n",
    "Id_no=1739 #This is a correct way"
   ]
  },
  {
   "cell_type": "markdown",
   "id": "9a9f22aa",
   "metadata": {},
   "source": [
    "## Data Types:\n",
    "Data types are the classification of data based on the type of value they hold. Some\n",
    "common data types in programming include:\n",
    "\n"
   ]
  },
  {
   "cell_type": "markdown",
   "id": "f9b7c35b",
   "metadata": {},
   "source": [
    "1. Integer: a whole number\n",
    "2. Float: a number with a decimal point\n",
    "3. String: a sequence of characters (e.g. \"Hello World\")\n",
    "4. Boolean: a data type that can have only two values, either True or False\n",
    "5. Complex: which are in the format of a+bj\n",
    "6. List: an ordered collection of values\n",
    "7. Tuple: an ordered, immutable collection of values\n",
    "8. Dictionary: an unordered collection of key-value pairs\n",
    "9. set: an unordered collection of values"
   ]
  },
  {
   "cell_type": "raw",
   "id": "1acd6299",
   "metadata": {},
   "source": [
    "#Examples of declaring various basic Data types\n",
    "\n",
    "Integers\n",
    "\n",
    "a=10\n",
    "b=11339\n",
    "\n",
    "Float\n",
    "\n",
    "a=1.22\n",
    "nass=0.40\n",
    "g=1.00\n",
    "\n",
    "Strings\n",
    "\n",
    "a=\"abcde\"\n",
    "b=\"fghijkl\"\n",
    "\n",
    "Boolean\n",
    "\n",
    "a=True\n",
    "b=False\n",
    "\n",
    "complex\n",
    "\n",
    "a=2+3j\n",
    "b=44-9j"
   ]
  },
  {
   "cell_type": "markdown",
   "id": "548ed43f",
   "metadata": {},
   "source": [
    "# Data Type Check:\n",
    "In python, we can check the Data Type of the data using the inbuilt function type()"
   ]
  },
  {
   "cell_type": "markdown",
   "id": "d82640e1",
   "metadata": {},
   "source": [
    "****"
   ]
  },
  {
   "cell_type": "raw",
   "id": "32994800",
   "metadata": {},
   "source": [
    "ip: type(123)\n",
    "\n",
    "op: int\n",
    "\n",
    "ip: type(\"ASDFFF\")\n",
    "\n",
    "op: str\n",
    "\n",
    "ip: type(1.00)\n",
    "\n",
    "op: float\n",
    "\n",
    "ip: type(True)\n",
    "\n",
    "op: boolean\n",
    "\n",
    "ip: type(1+2j)\n",
    "\n",
    "op: complex\n"
   ]
  },
  {
   "cell_type": "markdown",
   "id": "2c5a3593",
   "metadata": {},
   "source": [
    "# Type Casting:\n",
    "Type casting is the technique by which we can change the data type of the data\n",
    "from one data type to another.\n",
    "\n",
    "For eg: if a=5421 and it is an integer, we can easily change its Data Type by using float(a)\n",
    "or str(a). Here float value will become 5421.00 and if it’s changed to string it will become\n",
    "“5421” which is not a number but a character in the form of a number."
   ]
  },
  {
   "cell_type": "markdown",
   "id": "9af78300",
   "metadata": {},
   "source": [
    "***"
   ]
  },
  {
   "cell_type": "raw",
   "id": "24dd1ac0",
   "metadata": {},
   "source": [
    "ip: a=5421\n",
    "type(a)\n",
    "op: int\n",
    "\n",
    "ip: a=str(a)\n",
    "type(a)\n",
    "op: str\n",
    "\n",
    "# And we can do this as vice versa to change strings(in the form of numbers) to float and int.\n",
    "# And also float to int and str.\n",
    "ip: int(5421.31)\n",
    "op: 5421"
   ]
  },
  {
   "cell_type": "markdown",
   "id": "0a268044",
   "metadata": {},
   "source": [
    "# Print Function:\n",
    "print() is a built-in function in Python used to print desired output.\n",
    "***"
   ]
  },
  {
   "cell_type": "raw",
   "id": "b034fd10",
   "metadata": {},
   "source": [
    "ip: print(\"karthik\")\n",
    "op: karthik\n",
    "\n",
    "ip: a=10\n",
    "print(a)\n",
    "op: 10\n",
    "\n",
    "ip: print(5+4)\n",
    "op: 9"
   ]
  },
  {
   "cell_type": "markdown",
   "id": "de0988ff",
   "metadata": {},
   "source": [
    "# Functionalities of Print() function:"
   ]
  },
  {
   "cell_type": "markdown",
   "id": "9e8ce35c",
   "metadata": {},
   "source": [
    "***"
   ]
  },
  {
   "cell_type": "markdown",
   "id": "43bc2cd4",
   "metadata": {},
   "source": [
    "   * \\n can be used to print text in separate lines.\n",
    "   * sep can be used to separate two output terms."
   ]
  },
  {
   "cell_type": "raw",
   "id": "1fd70132",
   "metadata": {},
   "source": [
    "ip: print(\"jhghokl\n",
    "mnhgdf)\n",
    "op: error\n",
    "\n",
    "ip: print(\"jhghokl\\mnhgdf\")\n",
    "op: jhghokl\n",
    "mnhgdf\n",
    "\n",
    "ip: a=52\n",
    "b=\"kaka\"\n",
    "print(a,b)\n",
    "op: 52,kaka\n",
    "\n",
    "ip: print(a,b,sep='-')\n",
    "op: 52-kaka"
   ]
  },
  {
   "cell_type": "markdown",
   "id": "fe2bc5f2",
   "metadata": {},
   "source": [
    "# Types of printing variables along with a text using Print():\n",
    "****"
   ]
  },
  {
   "cell_type": "markdown",
   "id": "5f81f262",
   "metadata": {},
   "source": [
    "   * Using string concatenation ( Adding the variable with text)\n",
    "   * Using comma\n",
    "   * fstring\n",
    "   * Formatting\n",
    "   * Placeholders using Format Function"
   ]
  },
  {
   "cell_type": "markdown",
   "id": "5c660ec6",
   "metadata": {},
   "source": [
    "# Using String concatenation:\n",
    "***\n",
    "Just use the symbol ‘+’ between two strings to add them. "
   ]
  },
  {
   "cell_type": "raw",
   "id": "40f6b2f4",
   "metadata": {},
   "source": [
    "ip: # Adding two variables in Print using concatenation\n",
    "#As this method adds only strings, we first need to typecast every variable as a string\n",
    "\n",
    "a=16\n",
    "b=\"Mohan\"\n",
    "\n",
    "print(str(a)+' '+b)\n",
    "op: 16 Mohan"
   ]
  },
  {
   "cell_type": "markdown",
   "id": "eb8fb91f",
   "metadata": {},
   "source": [
    "# Using comma:\n",
    "Just use the comma symbol between two variables to add them( variables can be of any\n",
    "Data Types)\n",
    "***"
   ]
  },
  {
   "cell_type": "raw",
   "id": "5d80df3e",
   "metadata": {},
   "source": [
    "ip: # Add them using a comma\n",
    "\n",
    "print(a,b)\n",
    "op: 16, Mohan"
   ]
  },
  {
   "cell_type": "markdown",
   "id": "0865b7a1",
   "metadata": {},
   "source": [
    "# fstring:\n",
    "Add variables in between text in angular braces {} and use f at the point before the\n",
    "coats(”,’) of print statement.\n",
    "***"
   ]
  },
  {
   "cell_type": "raw",
   "id": "7e204347",
   "metadata": {},
   "source": [
    "ip: # let's think name=Mohan, age=29 and Gratuation =MBA\n",
    "# print My name is Mohan and My age is 29 and I had done my MBA Graduation\n",
    "\n",
    "name=\"Mohan\"\n",
    "age=29\n",
    "gratuation=\"MBA\"\n",
    "\n",
    "print(f\"My name is {name} and age is {age} and I had done {gratuation\")\n",
    "op: My name is Mohan and age is 29 and I had done MBA"
   ]
  },
  {
   "cell_type": "markdown",
   "id": "7c7adc39",
   "metadata": {},
   "source": [
    "# Format Function:\n",
    "Same as fstring but there is no need to give f and also no need to give the variable name\n",
    "in angular {} braces. Instead, we can use .format() function and pass the variables or\n",
    "parameters in it. \n",
    "****"
   ]
  },
  {
   "cell_type": "raw",
   "id": "09508229",
   "metadata": {},
   "source": [
    "ip: print(\"My name is {} and age is {} and I had done my {}\".format(name,age,gratuation))\n",
    "op: My name is Mohan and age is 29 and I had done MBA\n",
    "\n",
    "# Note: The variables in the format function should be in the same order as the places\n",
    "\n",
    "# you want them to fit in angular braces."
   ]
  },
  {
   "cell_type": "markdown",
   "id": "e301bca8",
   "metadata": {},
   "source": [
    "# Placeholders using Format Function:\n",
    "we can use placeholders in angular braces so that there will be no need for particular\n",
    "order to be followed in format function.\n",
    "*************************************************\n",
    "*********************"
   ]
  },
  {
   "cell_type": "raw",
   "id": "66ceffe5",
   "metadata": {},
   "source": [
    "ip: print(\"My name is {n} and age is {a} and I had done my {d}\".format(a=age,d=gratuation\n",
    "                                                                             ,n=name))\n",
    "op: My name is Mohan and age is 29 and I had done my MBA"
   ]
  },
  {
   "cell_type": "markdown",
   "id": "8a778a93",
   "metadata": {},
   "source": [
    "# Operators in Python:\n",
    "Python has several types of operators:\n",
    "*******\n",
    "1. Arithmetic Operators: +, -, *, /, %, **, //\n",
    "2. Comparison Operators: ==, !=, >, <, >=, <=\n",
    "3. Assignment Operators: =, +=, -=, *=, /=, %=, **=, //=\n",
    "4. Logical Operators: and, or, not\n",
    "5. Membership Operators: in, not in\n",
    "6. Identity Operators: is, is not\n",
    "*******"
   ]
  },
  {
   "cell_type": "markdown",
   "id": "2a541e8d",
   "metadata": {},
   "source": [
    "*****\n",
    "# Control Statements in Python:\n",
    "#### Python has several control statements like:\n",
    "<font color=Blue>If-Else:</font> Executes a block of code based on whether a condition is true or false.\n",
    "*****"
   ]
  },
  {
   "cell_type": "raw",
   "id": "8c32d741",
   "metadata": {},
   "source": [
    "ip: a=21\n",
    "    # using \"IF\" the code will check if the condition is greater than 18 or not.\n",
    "    if a>21:\n",
    "\n",
    "      # if the statement is true it will execute the below line of code\n",
    "     print(\"You are major\")\n",
    "  else:\n",
    "  # if the \"IF\" statement is false, then the Else code will be executed.\n",
    "  print(\"You are minor\")\n",
    "op: You are major"
   ]
  },
  {
   "cell_type": "markdown",
   "id": "abdd41f7",
   "metadata": {},
   "source": [
    "*****\n",
    "**Elif:** Will be used along with If-Else where we have to check more than 2 conditions.\n",
    "*****    "
   ]
  },
  {
   "cell_type": "raw",
   "id": "7ca7ad03",
   "metadata": {},
   "source": [
    "ip: a=80\n",
    "    # using \"IF\" the code will check if the condition is greater than 18 or not.\n",
    "    if a>18 and a<80:\n",
    "    \n",
    "      # if the statement is true it will execute the below line of code\n",
    "     \n",
    "     print(\"You are major\")\n",
    "    \n",
    "    elif a>80:\n",
    "    \n",
    "      print(\"You are old\")\n",
    "else:\n",
    "\n",
    "  print(\"You are minor\")\n",
    "  \n",
    "op: You are old"
   ]
  },
  {
   "cell_type": "markdown",
   "id": "14cbef17",
   "metadata": {},
   "source": [
    "*****\n",
    "**For Loop: Executes a block of code repeatedly for each item in a sequence (list, tuple,\n",
    "etc.)**\n",
    "\n",
    "For eg: if name=\"Mohan” and I want to traverse each of the elements of the value of the\n",
    "variable name, Then I have to travel through M O H A N one by one. we can do this\n",
    "by using For loop. so we can define for-loop as the one which can traverse through all the\n",
    "elements of a given value be it string or list or dictionary or etc.\n",
    "****"
   ]
  },
  {
   "cell_type": "raw",
   "id": "4e3b79ed",
   "metadata": {},
   "source": [
    "ip: name=\"MOHAN\"\n",
    "\n",
    "# Here i is the temporary variable to which we are assigning each element of the name\n",
    "# \"MOHAN\" one after another.\n",
    "# \"MOHAN\" one after another.\n",
    "for i in name:\n",
    "\n",
    "#Now we are going to print each value of i\n",
    "\n",
    "print(i)\n",
    "\n",
    "op: M\n",
    "    O\n",
    "    H\n",
    "    A\n",
    "    N"
   ]
  },
  {
   "cell_type": "markdown",
   "id": "c6ec1432",
   "metadata": {},
   "source": [
    "*****\n",
    "We can also use if-else statements in the for loop as below\n",
    "****"
   ]
  },
  {
   "cell_type": "raw",
   "id": "5cbe3e0c",
   "metadata": {},
   "source": [
    "#Program to replace all the letters \"M\" to \"*\" using if statement in for loop.\n",
    "ip: name=\"MOHAN\"\n",
    "    for i in name:\n",
    "        \n",
    "# I will add an if statement here.\n",
    "if i==\"M\":\n",
    "print(*)\n",
    "   else:\n",
    "        \n",
    "print(i)\n",
    "op: *\n",
    "    H\n",
    "    A\n",
    "    N\n",
    "    *\n",
    "    M\n",
    "    O\n",
    "    *"
   ]
  },
  {
   "cell_type": "markdown",
   "id": "609776d9",
   "metadata": {},
   "source": [
    "****\n",
    "Instead of Printing each character in a different line, we can print them on the same line\n",
    "using the end property in the print statement.\n",
    "****"
   ]
  },
  {
   "cell_type": "raw",
   "id": "f77a50cb",
   "metadata": {},
   "source": [
    "#In this code I used end=\"\" empty string to be placed between each printing Element.\n",
    "\n",
    "ip: name=\"MOHAN\"\n",
    "for i in name:\n",
    "if i==\"M\":\n",
    "print(*,end=\"\")\n",
    "else:\n",
    "print(i,end=\"\")\n",
    "op: *HAN*MO*"
   ]
  },
  {
   "cell_type": "markdown",
   "id": "1d0c2ca7",
   "metadata": {},
   "source": [
    "**Break:** Terminates a loop prematurely.\n",
    "we can use the Break statement to end a loop when a certain condition occurs.\n",
    "***"
   ]
  },
  {
   "cell_type": "raw",
   "id": "69f3ab10",
   "metadata": {},
   "source": [
    "#In this code I will stop executing code if there is letter \"H\" occurs.\n",
    "ip: name=\"MOHAN\"\n",
    "for i in name:\n",
    "if i==\"H\":\n",
    "break\n",
    "print(i,end=\"\")\n",
    "op: MO"
   ]
  },
  {
   "cell_type": "markdown",
   "id": "6e2ee401",
   "metadata": {},
   "source": [
    "***While Loop:*** Executes a block of code repeatedly as long as a given condition is true.\n",
    "For Eg: If there is a Government employee who aged 25. if we want to write a code to\n",
    "notify him when it’s time for him to Retire we can do it using While loop by printing that it’s\n",
    "time for his retirement once he reaches 62 by using While Loop."
   ]
  },
  {
   "cell_type": "raw",
   "id": "ef4fedca",
   "metadata": {},
   "source": [
    "ip: # While loop\n",
    "age=25\n",
    "experience=0\n",
    "# when age becomes 62 this while loop will stop\n",
    "# ! is not symbol. != this refer not equal to 62 in the below loop.\n",
    "while age!=62:\n",
    "# Here we are increasing the age by 1 each time while the loop is running.\n",
    "age=age+1\n",
    "#Let's increase experience every year\n",
    "experience=expericene+1\n",
    "else:\n",
    "print(\"it's time to Retire! You had now {} years of experience.format(experience))\n",
    "op: it's time to retire you had now 37 years of experience."
   ]
  },
  {
   "cell_type": "markdown",
   "id": "cc8b1a4d",
   "metadata": {},
   "source": [
    "#### Check more on Linkedin\n",
    "https://www.linkedin.com/in/mohan-nayak-49954392?lipi=urn%3Ali%3Apage%3Ad_flagship3_profile_view_base_contact_details%3BQ6mx07N%2FTOqTI9Op6fyvWA%3D%3D"
   ]
  },
  {
   "cell_type": "code",
   "execution_count": null,
   "id": "6c218fc7",
   "metadata": {},
   "outputs": [],
   "source": []
  }
 ],
 "metadata": {
  "kernelspec": {
   "display_name": "Python 3 (ipykernel)",
   "language": "python",
   "name": "python3"
  },
  "language_info": {
   "codemirror_mode": {
    "name": "ipython",
    "version": 3
   },
   "file_extension": ".py",
   "mimetype": "text/x-python",
   "name": "python",
   "nbconvert_exporter": "python",
   "pygments_lexer": "ipython3",
   "version": "3.11.0"
  }
 },
 "nbformat": 4,
 "nbformat_minor": 5
}
