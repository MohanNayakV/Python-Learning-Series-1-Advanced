{
 "cells": [
  {
   "cell_type": "markdown",
   "id": "d8de394b",
   "metadata": {},
   "source": [
    "## Python Magic Methods in Classes\n",
    "\n",
    "Magic methods in Python are special methods that start and end with double underscores, like `__init__` or `__str__`. They are automatically called when certain actions are performed on an object, allowing you to customize the behavior of your classes.\n",
    "\n",
    "Here are some of the most commonly used magic methods in Python classes:\n",
    "\n",
    "### Initialization and Construction\n",
    "\n",
    "- `__new__(cls, *args, **kwargs)`: Called when a new instance of the class is created. This method is responsible for returning the new object.\n",
    "- `__init__(self, *args, **kwargs)`: Called after a new instance has been created. This method is used to initialize the attributes of the object.\n",
    "- `__del__(self)`: Called when an object is about to be destroyed (its reference count goes to zero or the object is explicitly destroyed).\n",
    "\n",
    "### Numeric Magic Methods\n",
    "\n",
    "- `__add__(self, other)`: Called when the `+` operator is used with the object.\n",
    "- `__sub__(self, other)`: Called when the `-` operator is used with the object.\n",
    "- `__mul__(self, other)`: Called when the `*` operator is used with the object.\n",
    "- `__truediv__(self, other)`: Called when the `/` operator is used with the object.\n",
    "- `__floordiv__(self, other)`: Called when the `//` operator is used with the object.\n",
    "- `__mod__(self, other)`: Called when the `%` operator is used with the object.\n",
    "- `__pow__(self, other[, modulo])`: Called when the `**` operator is used with the object.\n",
    "\n",
    "### String Representation\n",
    "\n",
    "- `__str__(self)`: Called by the `str()` function and `print()` statement to compute the \"informal\" or nicely printable string representation of an object.\n",
    "- `__repr__(self)`: Called by the `repr()` function to compute the \"official\" string representation of an object.\n",
    "\n",
    "### Comparison Magic Methods\n",
    "\n",
    "- `__lt__(self, other)`: Called when the `<` operator is used with the object.\n",
    "- `__le__(self, other)`: Called when the `<=` operator is used with the object.\n",
    "- `__eq__(self, other)`: Called when the `==` operator is used with the object.\n",
    "- `__ne__(self, other)`: Called when the `!=` operator is used with the object.\n",
    "- `__gt__(self, other)`: Called when the `>` operator is used with the object.\n",
    "- `__ge__(self, other)`: Called when the `>=` operator is used with the object.\n",
    "\n",
    "### Callable Objects\n",
    "\n",
    "- `__call__(self, *args, **kwargs)`: Called when the instance of the class is \"called\" like a function.\n",
    "\n",
    "### Context Manager Magic Methods\n",
    "\n",
    "- `__enter__(self)`: Called when the object is used in a `with` statement. It should return the object itself or another object (the context manager).\n",
    "- `__exit__(self, exc_type, exc_value, traceback)`: Called at the end of the `with` block, whether an exception was raised or not.\n",
    "\n",
    "These are just a few examples of the many magic methods available in Python. By overriding these methods in your own classes, you can customize the behavior of your objects and make them more intuitive and Pythonic.\n",
    "\n",
    "Here's an example of how you can use some of these magic methods in a custom class:\n",
    "\n",
    "```python\n",
    "class Person:\n",
    "    def __init__(self, name, age):\n",
    "        self.name = name\n",
    "        self.age = age\n",
    "\n",
    "    def __str__(self):\n",
    "        return f\"{self.name} ({self.age})\"\n",
    "\n",
    "    def __lt__(self, other):\n",
    "        return self.age < other.age\n",
    "\n",
    "    def __call__(self):\n",
    "        print(f\"Hello, my name is {self.name} and I'm {self.age} years old.\")\n",
    "\n",
    "# Usage\n",
    "person1 = Person(\"Alice\", 25)\n",
    "person2 = Person(\"Bob\", 30)\n",
    "\n",
    "print(person1)  # Output: Alice (25)\n",
    "print(person2)  # Output: Bob (30)\n",
    "print(person1 < person2)  # Output: True\n",
    "person1()  # Output: Hello, my name is Alice and I'm 25 years old.\n",
    "```\n",
    "\n",
    "In this example, we've defined a `Person` class with several magic methods:\n",
    "\n",
    "- `__init__`: Initializes the `name` and `age` attributes of the object.\n",
    "- `__str__`: Provides a string representation of the object, which is used when printing the object or converting it to a string.\n",
    "- `__lt__`: Defines the comparison behavior for the `<` operator, allowing us to compare `Person` objects by their age.\n",
    "- `__call__`: Allows the object to be \"called\" like a function, printing a greeting message.\n",
    "\n",
    "By using these magic methods, we can make our `Person` class more intuitive and Pythonic to work with."
   ]
  },
  {
   "cell_type": "code",
   "execution_count": 1,
   "id": "22107765",
   "metadata": {},
   "outputs": [],
   "source": [
    "class Car():\n",
    "    def __init__(self,windows,doors,enginetype):\n",
    "        self.windows=windows\n",
    "        self.doors=doors\n",
    "        self.enginetype=enginetype\n",
    "    def drive(self):\n",
    "        print(\"The person drives the car\")"
   ]
  },
  {
   "cell_type": "code",
   "execution_count": 3,
   "id": "aa7d6fd3",
   "metadata": {},
   "outputs": [],
   "source": [
    "c=Car(4,5,\"Diesel\")"
   ]
  },
  {
   "cell_type": "code",
   "execution_count": 4,
   "id": "2701054f",
   "metadata": {},
   "outputs": [
    {
     "data": {
      "text/plain": [
       "['__class__',\n",
       " '__delattr__',\n",
       " '__dict__',\n",
       " '__dir__',\n",
       " '__doc__',\n",
       " '__eq__',\n",
       " '__format__',\n",
       " '__ge__',\n",
       " '__getattribute__',\n",
       " '__getstate__',\n",
       " '__gt__',\n",
       " '__hash__',\n",
       " '__init__',\n",
       " '__init_subclass__',\n",
       " '__le__',\n",
       " '__lt__',\n",
       " '__module__',\n",
       " '__ne__',\n",
       " '__new__',\n",
       " '__reduce__',\n",
       " '__reduce_ex__',\n",
       " '__repr__',\n",
       " '__setattr__',\n",
       " '__sizeof__',\n",
       " '__str__',\n",
       " '__subclasshook__',\n",
       " '__weakref__',\n",
       " 'doors',\n",
       " 'drive',\n",
       " 'enginetype',\n",
       " 'windows']"
      ]
     },
     "execution_count": 4,
     "metadata": {},
     "output_type": "execute_result"
    }
   ],
   "source": [
    "dir(c)"
   ]
  },
  {
   "cell_type": "code",
   "execution_count": 5,
   "id": "95e62ea4",
   "metadata": {},
   "outputs": [
    {
     "data": {
      "text/plain": [
       "<__main__.Car at 0x2980f006f50>"
      ]
     },
     "execution_count": 5,
     "metadata": {},
     "output_type": "execute_result"
    }
   ],
   "source": [
    "c"
   ]
  },
  {
   "cell_type": "code",
   "execution_count": 6,
   "id": "6ae86f07",
   "metadata": {},
   "outputs": [
    {
     "name": "stdout",
     "output_type": "stream",
     "text": [
      "<__main__.Car object at 0x000002980F006F50>\n"
     ]
    }
   ],
   "source": [
    "print(c)"
   ]
  },
  {
   "cell_type": "code",
   "execution_count": null,
   "id": "fc6650a3",
   "metadata": {},
   "outputs": [],
   "source": []
  }
 ],
 "metadata": {
  "kernelspec": {
   "display_name": "Python 3 (ipykernel)",
   "language": "python",
   "name": "python3"
  },
  "language_info": {
   "codemirror_mode": {
    "name": "ipython",
    "version": 3
   },
   "file_extension": ".py",
   "mimetype": "text/x-python",
   "name": "python",
   "nbconvert_exporter": "python",
   "pygments_lexer": "ipython3",
   "version": "3.11.0"
  }
 },
 "nbformat": 4,
 "nbformat_minor": 5
}
