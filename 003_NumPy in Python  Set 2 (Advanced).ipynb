{
 "cells": [
  {
   "cell_type": "markdown",
   "id": "12831393",
   "metadata": {},
   "source": [
    "### Python Notes\n",
    "\n",
    "#### Notes Prepared by Mohan Nayak\n",
    "###### You can follow me on linkedin https://www.linkedin.com/in/mohan-nayak-49954392?lipi=urn%3Ali%3Apage%3Ad_flagship3_profile_view_base_contact_details%3BQ6mx07N%2FTOqTI9Op6fyvWA%3D%3D"
   ]
  },
  {
   "cell_type": "markdown",
   "id": "3ac6c5c0",
   "metadata": {},
   "source": [
    "This article discusses some more and a bit advanced methods available in NumPy.\n",
    "\n",
    "1 **Stacking:** Several arrays can be stacked together along different axes.\n",
    "\n",
    " * **np.vstack:** To stack arrays along vertical axis.\n",
    " * **np.hstack:** To stack arrays along horizontal axis.\n",
    " * **np.column_stack:** To stack 1-D arrays as columns into 2-D arrays.\n",
    " * **np.concatenate:** To stack arrays along specified axis (axis is passed as argument).\n",
    " \n"
   ]
  },
  {
   "cell_type": "code",
   "execution_count": 1,
   "id": "6d0a6e18",
   "metadata": {},
   "outputs": [
    {
     "name": "stdout",
     "output_type": "stream",
     "text": [
      "vertical stacking:\n",
      " [[1 2]\n",
      " [3 4]\n",
      " [5 6]\n",
      " [7 8]]\n",
      "\\Horizontal stacking:\n",
      " [[1 2 5 6]\n",
      " [3 4 7 8]]\n",
      "\n",
      "Column stacking:\n",
      " [[1 2 5]\n",
      " [3 4 6]]\n",
      "\n",
      "Concatenating to 2nd axis:\n",
      " [[1 2 5 6]\n",
      " [3 4 7 8]]\n"
     ]
    }
   ],
   "source": [
    "import numpy as np\n",
    "\n",
    "a = np.array([[1, 2],\n",
    "             [3, 4]])\n",
    "\n",
    "b = np.array([[5, 6],\n",
    "             [7, 8]])\n",
    "\n",
    "# vertical stacking\n",
    "print(\"vertical stacking:\\n\", np.vstack((a, b)))\n",
    "\n",
    "# Horizontal stacking \n",
    "print(\"\\Horizontal stacking:\\n\", np.hstack((a, b)))\n",
    "\n",
    "c = [5, 6]\n",
    "\n",
    "# stacking columns\n",
    "print(\"\\nColumn stacking:\\n\", np.column_stack((a, c)))\n",
    "\n",
    "# concatenation method \n",
    "print(\"\\nConcatenating to 2nd axis:\\n\", np.concatenate((a, b), 1))\n",
    "\n",
    "\n"
   ]
  },
  {
   "cell_type": "markdown",
   "id": "a2fbd7eb",
   "metadata": {},
   "source": [
    "2.**Splitting:** For splitting, we have these functions:\n",
    "\n",
    " * **np.hsplit:** Split array along horizontal axis.\n",
    " * **np.vsplit:** Split array along vertical axis.\n",
    " * **np.array_split:** Split array along specified axis."
   ]
  },
  {
   "cell_type": "code",
   "execution_count": 2,
   "id": "62148a10",
   "metadata": {},
   "outputs": [
    {
     "name": "stdout",
     "output_type": "stream",
     "text": [
      "Splitting along horizontal axis into 2 parts:\n",
      " [array([[1, 3, 5],\n",
      "       [2, 4, 6]]), array([[ 7,  9, 11],\n",
      "       [ 8, 10, 12]])]\n",
      "\n",
      "Splitting along vertical axis into 2 parts:\n",
      " [array([[ 1,  3,  5,  7,  9, 11]]), array([[ 2,  4,  6,  8, 10, 12]])]\n"
     ]
    }
   ],
   "source": [
    "import numpy as np\n",
    "\n",
    "a = np.array([[1, 3, 5, 7, 9, 11],\n",
    "            [2, 4, 6, 8, 10, 12]])\n",
    "\n",
    "# horizontal splitting\n",
    "print(\"Splitting along horizontal axis into 2 parts:\\n\", np.hsplit(a, 2))\n",
    "\n",
    "# vertical splitting\n",
    "print(\"\\nSplitting along vertical axis into 2 parts:\\n\", np.vsplit(a, 2))\n"
   ]
  },
  {
   "cell_type": "markdown",
   "id": "83dcf50d",
   "metadata": {},
   "source": [
    "2.**Broadcasting:** The term broadcasting describes how NumPy treats arrays with different shapes during arithmetic operations. Subject to certain constraints, the smaller array is “broadcast” across the larger array so that they have compatible shapes.\n",
    "Broadcasting provides a means of vectorizing array operations so that looping occurs in C instead of Python. It does this without making needless copies of data and usually leads to efficient algorithm implementations. There are also cases where broadcasting is a bad idea because it leads to inefficient use of memory that slows computation.\n",
    "\n",
    "NumPy operations are usually done element-by-element which requires two arrays to have exactly the same shape. Numpy’s broadcasting rule relaxes this constraint when the arrays’ shapes meet certain constraints.\n",
    "\n",
    "**The Broadcasting Rule:** In order to broadcast, the size of the trailing axes for both arrays in an operation must either be the same size or one of them must be one."
   ]
  },
  {
   "cell_type": "raw",
   "id": "25248585",
   "metadata": {},
   "source": [
    "Let us see some examples:\n",
    "\n",
    "A(2-D array): 4 x 3\n",
    "B(1-D array):     3\n",
    "Result      : 4 x 3\n",
    "A(4-D array): 7 x 1 x 6 x 1\n",
    "B(3-D array):     3 x 1 x 5\n",
    "Result      : 7 x 3 x 6 x 5\n",
    "But this would be a mismatch:\n",
    "\n",
    "A: 4 x 3\n",
    "B:     4\n",
    "The simplest broadcasting example occurs when an array and a scalar value are combined in an operation.\n",
    "Consider the example given below:"
   ]
  },
  {
   "attachments": {
    "image.png": {
     "image/png": "[encoded data removed]"
    }
   },
   "cell_type": "markdown",
   "id": "44c07c0d",
   "metadata": {},
   "source": [
    "We can think of the scalar b being stretched during the arithmetic operation into an array with the same shape as a. The new elements in b, as shown in above figure, are simply copies of the original scalar. Although, the stretching analogy is only conceptual.\n",
    "\n",
    "Numpy is smart enough to use the original scalar value without actually making copies so that broadcasting operations are as memory and computationally efficient as possible. Because Example 1 moves less memory, (b is a scalar, not an array) around during the multiplication, it is about 10% faster than Example 2 using the standard numpy on Windows 2000 with one million element arrays!\n",
    "\n",
    "The figure below makes the concept more clear:\n",
    "\n",
    "![image.png](attachment:image.png)\n",
    "\n",
    "In above example, the scalar b is stretched to become an array of with the same shape as a so the shapes are compatible for element-by-element multiplication.\n",
    "\n",
    "Now, let us see an example where both arrays get stretched."
   ]
  },
  {
   "cell_type": "code",
   "execution_count": 3,
   "id": "1ab85e33",
   "metadata": {},
   "outputs": [
    {
     "name": "stdout",
     "output_type": "stream",
     "text": [
      "[[ 0.  1.  2.]\n",
      " [10. 11. 12.]\n",
      " [20. 21. 22.]\n",
      " [30. 31. 32.]]\n"
     ]
    }
   ],
   "source": [
    "import numpy as np\n",
    "\n",
    "a = np.array([0.0, 10.0, 20.0, 30.0])\n",
    "b = np.array([0.0, 1.0, 2.0])\n",
    "\n",
    "print(a[:, np.newaxis]+b)"
   ]
  },
  {
   "attachments": {
    "image.png": {
     "image/png": "[encoded data removed]"
    }
   },
   "cell_type": "markdown",
   "id": "cb7ab683",
   "metadata": {},
   "source": [
    "![image.png](attachment:image.png)\n",
    "\n",
    "In some cases, broadcasting stretches both arrays to form an output array larger than either of the initial arrays.\n",
    "\n",
    "4. **Working with datetime:** Numpy has core array data types which natively support datetime functionality. The data type is called “datetime64”, so named because “datetime” is already taken by the datetime library included in Python.\n",
    "\n",
    "Consider the example below for some examples:"
   ]
  },
  {
   "cell_type": "code",
   "execution_count": 4,
   "id": "3c29386c",
   "metadata": {
    "scrolled": true
   },
   "outputs": [
    {
     "name": "stdout",
     "output_type": "stream",
     "text": [
      "Date is: 2023-02-27\n",
      "Year is: 2023\n",
      "nDates of February, 2023:\n",
      " ['2023-02-01' '2023-02-02' '2023-02-03' '2023-02-04' '2023-02-05'\n",
      " '2023-02-06' '2023-02-07' '2023-02-08' '2023-02-09' '2023-02-10'\n",
      " '2023-02-11' '2023-02-12' '2023-02-13' '2023-02-14' '2023-02-15'\n",
      " '2023-02-16' '2023-02-17' '2023-02-18' '2023-02-19' '2023-02-20'\n",
      " '2023-02-21' '2023-02-22' '2023-02-23' '2023-02-24' '2023-02-25'\n",
      " '2023-02-26' '2023-02-27' '2023-02-28']\n",
      "Today is February: True\n",
      "\n",
      "No. of days: 365 days\n",
      "No. of weeks: 52 weeks\n",
      "\n",
      "Dates in sorted order: ['2022-10-13' '2023-02-12' '2024-05-22']\n"
     ]
    }
   ],
   "source": [
    "# creating a date\n",
    "\n",
    "import numpy as np\n",
    "today = np.datetime64('2023-02-27')\n",
    "print(\"Date is:\", today)\n",
    "print(\"Year is:\", np.datetime64(today, 'Y'))\n",
    "\n",
    "# creating array of dates in a month\n",
    "\n",
    "dates = np.arange('2023-02', '2023-03',dtype='datetime64[D]')\n",
    "print(\"nDates of February, 2023:\\n\", dates)\n",
    "print(\"Today is February:\", today in dates)\n",
    "\n",
    "\n",
    "# arithmetic operation on dates\n",
    "dur = np.datetime64('2023-05-22') - np.datetime64('2022-05-22')\n",
    "print(\"\\nNo. of days:\", dur)\n",
    "print(\"No. of weeks:\", np.timedelta64(dur, 'W'))\n",
    "\n",
    "# sorting dates\n",
    "a = np.array(['2023-02-12', '2022-10-13', '2024-05-22'], dtype='datetime64')\n",
    "print(\"\\nDates in sorted order:\", np.sort(a))\n",
    "\n",
    "\n",
    "\n",
    "\n",
    "\n",
    "\n",
    "\n",
    "\n",
    "\n"
   ]
  },
  {
   "cell_type": "markdown",
   "id": "6c25fa2f",
   "metadata": {},
   "source": [
    "5. **Linear algebra in NumPy:** The Linear Algebra module of NumPy offers various methods to apply linear algebra on any numpy array.\n",
    "You can find:\n",
    " * rank, determinant, trace, etc. of an array.\n",
    " * eigen values of matrices\n",
    " * matrix and vector products (dot, inner, outer,etc. product), matrix exponentiation\n",
    " * solve linear or tensor equations and much more!\n",
    " \n",
    " Consider the example below which explains how we can use NumPy to do some matrix operations."
   ]
  },
  {
   "cell_type": "code",
   "execution_count": 5,
   "id": "75a2937d",
   "metadata": {},
   "outputs": [
    {
     "name": "stdout",
     "output_type": "stream",
     "text": [
      "Rank of A: 3\n",
      "\n",
      "Trace of A: 11\n",
      "\n",
      "Determinant of A: -306.0\n",
      "\n",
      "Inverse of A:\n",
      " [[ 0.17647059 -0.00326797 -0.02287582]\n",
      " [ 0.05882353 -0.13071895  0.08496732]\n",
      " [-0.11764706  0.1503268   0.05228758]]\n",
      "\n",
      "Matrix A raised to power 3:\n",
      " [[336 162 228]\n",
      " [406 162 469]\n",
      " [698 702 905]]\n"
     ]
    }
   ],
   "source": [
    "import numpy as np\n",
    "\n",
    "A = np.array([[6, 1, 1],\n",
    "             [4, -2, 5],\n",
    "             [2, 8, 7]])\n",
    "\n",
    "print(\"Rank of A:\", np.linalg.matrix_rank(A))\n",
    "\n",
    "print(\"\\nTrace of A:\", np.trace(A))\n",
    "\n",
    "print(\"\\nDeterminant of A:\", np.linalg.det(A))\n",
    "\n",
    "print(\"\\nInverse of A:\\n\", np.linalg.inv(A))\n",
    "\n",
    "print(\"\\nMatrix A raised to power 3:\\n\", np.linalg.matrix_power(A, 3))\n"
   ]
  },
  {
   "cell_type": "raw",
   "id": "79713b50",
   "metadata": {},
   "source": [
    "Let us assume that we want to solve this linear equation set:\n",
    "\n",
    "x + 2*y = 8\n",
    "3*x + 4*y = 18\n",
    "\n",
    "This problem can be solved using linalg.solve method as shown in example below:"
   ]
  },
  {
   "cell_type": "code",
   "execution_count": 6,
   "id": "ff7e7790",
   "metadata": {},
   "outputs": [
    {
     "name": "stdout",
     "output_type": "stream",
     "text": [
      "Solution of linear equations: [2. 3.]\n"
     ]
    }
   ],
   "source": [
    "import numpy as np\n",
    "\n",
    "# coefficients\n",
    "a = np.array([[1, 2], [3, 4]])\n",
    "# constants\n",
    "b = np.array([8, 18])\n",
    "\n",
    "print(\"Solution of linear equations:\", np.linalg.solve(a, b))\n"
   ]
  },
  {
   "cell_type": "code",
   "execution_count": null,
   "id": "2dedd1e6",
   "metadata": {},
   "outputs": [],
   "source": []
  }
 ],
 "metadata": {
  "kernelspec": {
   "display_name": "Python 3 (ipykernel)",
   "language": "python",
   "name": "python3"
  },
  "language_info": {
   "codemirror_mode": {
    "name": "ipython",
    "version": 3
   },
   "file_extension": ".py",
   "mimetype": "text/x-python",
   "name": "python",
   "nbconvert_exporter": "python",
   "pygments_lexer": "ipython3",
   "version": "3.11.0"
  }
 },
 "nbformat": 4,
 "nbformat_minor": 5
}
