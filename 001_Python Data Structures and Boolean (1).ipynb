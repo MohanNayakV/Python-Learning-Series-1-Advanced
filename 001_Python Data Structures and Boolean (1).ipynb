{
 "cells": [
  {
   "cell_type": "markdown",
   "id": "386a8527",
   "metadata": {},
   "source": [
    "### Python Notes\n",
    "\n",
    "#### Notes Prepared by Mohan Nayak\n",
    "###### You can follow me on linkedin https://www.linkedin.com/in/mohan-nayak-49954392?lipi=urn%3Ali%3Apage%3Ad_flagship3_profile_view_base_contact_details%3BQ6mx07N%2FTOqTI9Op6fyvWA%3D%3D"
   ]
  },
  {
   "cell_type": "markdown",
   "id": "7d6c70ee",
   "metadata": {},
   "source": [
    "# Python Data Structures and Boolean\n",
    "\n",
    "* Boolean\n",
    "* Boolean and Logical Operators\n",
    "* Lists\n",
    "* Comparison operators\n",
    "* Dictionaries\n",
    "* Tuples\n",
    "* Sets\n",
    "\n",
    "# Boolean Variables\n",
    "\n",
    "Boolean values are the two constant objects False and True.\n",
    "\n",
    "They are used to represent truth values (other values can also be considered false or true).\n",
    "\n",
    "In numeric contexts (for example, when used as the argument to an arithmetic operator), they behave like the integers 0 and 1, respectively.\n",
    "\n",
    "The built-in function bool() can be used to cast any value to a Boolean, if the value can be interpreted as a truth value\n",
    "\n",
    "They are written as False and True, respectively."
   ]
  },
  {
   "cell_type": "code",
   "execution_count": 2,
   "id": "900f1851",
   "metadata": {},
   "outputs": [
    {
     "data": {
      "text/plain": [
       "False"
      ]
     },
     "execution_count": 2,
     "metadata": {},
     "output_type": "execute_result"
    }
   ],
   "source": [
    "False"
   ]
  },
  {
   "cell_type": "code",
   "execution_count": 3,
   "id": "df952e81",
   "metadata": {},
   "outputs": [
    {
     "name": "stdout",
     "output_type": "stream",
     "text": [
      "True False\n"
     ]
    }
   ],
   "source": [
    "print(True, False) "
   ]
  },
  {
   "cell_type": "code",
   "execution_count": 4,
   "id": "f9e7ec3d",
   "metadata": {},
   "outputs": [
    {
     "data": {
      "text/plain": [
       "bool"
      ]
     },
     "execution_count": 4,
     "metadata": {},
     "output_type": "execute_result"
    }
   ],
   "source": [
    "type(True)"
   ]
  },
  {
   "cell_type": "code",
   "execution_count": 5,
   "id": "fea5656e",
   "metadata": {},
   "outputs": [
    {
     "data": {
      "text/plain": [
       "bool"
      ]
     },
     "execution_count": 5,
     "metadata": {},
     "output_type": "execute_result"
    }
   ],
   "source": [
    "type(False)"
   ]
  },
  {
   "cell_type": "code",
   "execution_count": 8,
   "id": "78c43d9c",
   "metadata": {},
   "outputs": [],
   "source": [
    "my_str='Mohan8797'"
   ]
  },
  {
   "cell_type": "code",
   "execution_count": 9,
   "id": "b7140a06",
   "metadata": {},
   "outputs": [
    {
     "data": {
      "text/plain": [
       "True"
      ]
     },
     "execution_count": 9,
     "metadata": {},
     "output_type": "execute_result"
    }
   ],
   "source": [
    "my_str.istitle()"
   ]
  },
  {
   "cell_type": "code",
   "execution_count": 11,
   "id": "0bc6f48b",
   "metadata": {},
   "outputs": [
    {
     "name": "stdout",
     "output_type": "stream",
     "text": [
      "True\n",
      "False\n",
      "False\n",
      "True\n",
      "False\n",
      "False\n",
      "False\n",
      "False\n",
      "True\n"
     ]
    }
   ],
   "source": [
    "print(my_str.isalnum()) #check if all char are numbers\n",
    "print(my_str.isalpha()) #check if all char in the string are alphabetic\n",
    "print(my_str.isdigit()) #test if string contains digits\n",
    "print(my_str.istitle()) #test if string contains title words\n",
    "print(my_str.isupper()) #test if string contains upper case\n",
    "print(my_str.islower()) #test if string contains lower case\n",
    "print(my_str.isspace()) #test if string contains spaces\n",
    "print(my_str.endswith('M')) #test if string endswith a d\n",
    "print(my_str.startswith('M')) #test if string startswith M"
   ]
  },
  {
   "cell_type": "markdown",
   "id": "12fdca53",
   "metadata": {},
   "source": [
    "### Boolean and Logical Operators\n",
    "\n",
    "Python has three Boolean operators, or logical operators: and, or, and not. You can use them to check if certain conditions are met before deciding the execution path your programs will follow. In this tutorial, you’ll learn about the and operator and how to use it in your code."
   ]
  },
  {
   "cell_type": "code",
   "execution_count": 12,
   "id": "0f41d7d4",
   "metadata": {},
   "outputs": [
    {
     "data": {
      "text/plain": [
       "True"
      ]
     },
     "execution_count": 12,
     "metadata": {},
     "output_type": "execute_result"
    }
   ],
   "source": [
    "True and True"
   ]
  },
  {
   "cell_type": "code",
   "execution_count": 13,
   "id": "55116c8d",
   "metadata": {},
   "outputs": [
    {
     "data": {
      "text/plain": [
       "False"
      ]
     },
     "execution_count": 13,
     "metadata": {},
     "output_type": "execute_result"
    }
   ],
   "source": [
    "True and False"
   ]
  },
  {
   "cell_type": "code",
   "execution_count": 14,
   "id": "1903b2fc",
   "metadata": {},
   "outputs": [
    {
     "data": {
      "text/plain": [
       "True"
      ]
     },
     "execution_count": 14,
     "metadata": {},
     "output_type": "execute_result"
    }
   ],
   "source": [
    "True or False"
   ]
  },
  {
   "cell_type": "code",
   "execution_count": 15,
   "id": "d51afd71",
   "metadata": {},
   "outputs": [],
   "source": [
    "str_example ='Hello World'\n",
    "my_str= 'Mohan'"
   ]
  },
  {
   "cell_type": "code",
   "execution_count": 16,
   "id": "0f9f1f93",
   "metadata": {},
   "outputs": [
    {
     "data": {
      "text/plain": [
       "True"
      ]
     },
     "execution_count": 16,
     "metadata": {},
     "output_type": "execute_result"
    }
   ],
   "source": [
    "my_str.isalpha() or str_example.isnum()"
   ]
  },
  {
   "cell_type": "markdown",
   "id": "df09c0cf",
   "metadata": {},
   "source": [
    "### Lists\n",
    "A list is a data structure in Python that is a mutable, or changeable, ordered sequence of elements. Each element or value that is inside of a list is called an item. Just as strings are defined as characters between quotes, lists are defined by having values between square brackets [ ]"
   ]
  },
  {
   "cell_type": "code",
   "execution_count": 17,
   "id": "114b9aec",
   "metadata": {},
   "outputs": [
    {
     "data": {
      "text/plain": [
       "list"
      ]
     },
     "execution_count": 17,
     "metadata": {},
     "output_type": "execute_result"
    }
   ],
   "source": [
    "type([])"
   ]
  },
  {
   "cell_type": "code",
   "execution_count": 18,
   "id": "b7c7c89f",
   "metadata": {},
   "outputs": [],
   "source": [
    "list_example=[]"
   ]
  },
  {
   "cell_type": "code",
   "execution_count": 19,
   "id": "efb86be7",
   "metadata": {},
   "outputs": [
    {
     "data": {
      "text/plain": [
       "list"
      ]
     },
     "execution_count": 19,
     "metadata": {},
     "output_type": "execute_result"
    }
   ],
   "source": [
    "type(list_example)"
   ]
  },
  {
   "cell_type": "code",
   "execution_count": 20,
   "id": "ccb49c03",
   "metadata": {},
   "outputs": [],
   "source": [
    "list=list()"
   ]
  },
  {
   "cell_type": "code",
   "execution_count": 21,
   "id": "2f3d2f01",
   "metadata": {},
   "outputs": [
    {
     "data": {
      "text/plain": [
       "list"
      ]
     },
     "execution_count": 21,
     "metadata": {},
     "output_type": "execute_result"
    }
   ],
   "source": [
    "type(list)"
   ]
  },
  {
   "cell_type": "code",
   "execution_count": 22,
   "id": "c5850a24",
   "metadata": {},
   "outputs": [
    {
     "data": {
      "text/plain": [
       "6"
      ]
     },
     "execution_count": 22,
     "metadata": {},
     "output_type": "execute_result"
    }
   ],
   "source": [
    "list=['Mathematics','chemistry', 100, 150, 165, 204]\n",
    "\n",
    "len(list)"
   ]
  },
  {
   "cell_type": "markdown",
   "id": "755389cb",
   "metadata": {},
   "source": [
    "#### Append\n",
    "\n",
    "What is append in Python with example?\n",
    "\n",
    "append() will place new items in the available space. Lists are sequences that can hold different data types and Python objects, so you can use . append() to add any object to a given list. In this example, you first add an integer number, then a string, and finally a floating-point number.\n"
   ]
  },
  {
   "cell_type": "code",
   "execution_count": 29,
   "id": "6f16ac9e",
   "metadata": {},
   "outputs": [],
   "source": [
    "#.append is used to add elements in the list\n",
    "list.append(\"shiva\")"
   ]
  },
  {
   "cell_type": "code",
   "execution_count": 32,
   "id": "b20f9b5e",
   "metadata": {},
   "outputs": [],
   "source": [
    "list.append([\"chinna\",\"ravi\"])"
   ]
  },
  {
   "cell_type": "code",
   "execution_count": 33,
   "id": "a2497662",
   "metadata": {
    "scrolled": true
   },
   "outputs": [
    {
     "data": {
      "text/plain": [
       "['Mathematics',\n",
       " 'chemistry',\n",
       " 100,\n",
       " 150,\n",
       " 165,\n",
       " 204,\n",
       " 'Mohan',\n",
       " 'Mohan',\n",
       " ['chinna', 'ravi'],\n",
       " 'shiva',\n",
       " ['chinna', 'ravi'],\n",
       " ['chinna', 'ravi']]"
      ]
     },
     "execution_count": 33,
     "metadata": {},
     "output_type": "execute_result"
    }
   ],
   "source": [
    "list"
   ]
  },
  {
   "cell_type": "code",
   "execution_count": 34,
   "id": "9ab35310",
   "metadata": {},
   "outputs": [
    {
     "data": {
      "text/plain": [
       "'Mohan'"
      ]
     },
     "execution_count": 34,
     "metadata": {},
     "output_type": "execute_result"
    }
   ],
   "source": [
    "list[6]"
   ]
  },
  {
   "cell_type": "code",
   "execution_count": 35,
   "id": "2468e444",
   "metadata": {},
   "outputs": [
    {
     "data": {
      "text/plain": [
       "165"
      ]
     },
     "execution_count": 35,
     "metadata": {},
     "output_type": "execute_result"
    }
   ],
   "source": [
    "list[4]"
   ]
  },
  {
   "cell_type": "code",
   "execution_count": 37,
   "id": "1f126aa5",
   "metadata": {},
   "outputs": [
    {
     "data": {
      "text/plain": [
       "['chemistry', 100, 150, 165, 204]"
      ]
     },
     "execution_count": 37,
     "metadata": {},
     "output_type": "execute_result"
    }
   ],
   "source": [
    "list[1:6]"
   ]
  },
  {
   "cell_type": "markdown",
   "id": "88df55a8",
   "metadata": {},
   "source": [
    "### Insert\n",
    "insert() function is a Python library function used to insert a given element at a given index in a list. After the insertion of a new element in the list, elements after the inserted element are shifted by one index to the right side."
   ]
  },
  {
   "cell_type": "code",
   "execution_count": 38,
   "id": "d3608539",
   "metadata": {},
   "outputs": [],
   "source": [
    "# insert in a specific order\n",
    "\n",
    "list.insert(2,\"Ram\")"
   ]
  },
  {
   "cell_type": "code",
   "execution_count": 39,
   "id": "3151c2b2",
   "metadata": {},
   "outputs": [
    {
     "data": {
      "text/plain": [
       "['Mathematics',\n",
       " 'chemistry',\n",
       " 'Ram',\n",
       " 100,\n",
       " 150,\n",
       " 165,\n",
       " 204,\n",
       " 'Mohan',\n",
       " 'Mohan',\n",
       " ['chinna', 'ravi'],\n",
       " 'shiva',\n",
       " ['chinna', 'ravi'],\n",
       " ['chinna', 'ravi']]"
      ]
     },
     "execution_count": 39,
     "metadata": {},
     "output_type": "execute_result"
    }
   ],
   "source": [
    "list"
   ]
  },
  {
   "cell_type": "code",
   "execution_count": 41,
   "id": "db7d4d2a",
   "metadata": {},
   "outputs": [],
   "source": [
    "list.append([\"Hello\",\"World\"])"
   ]
  },
  {
   "cell_type": "code",
   "execution_count": 42,
   "id": "f7896052",
   "metadata": {},
   "outputs": [
    {
     "data": {
      "text/plain": [
       "['Mathematics',\n",
       " 'chemistry',\n",
       " 'Ram',\n",
       " 100,\n",
       " 150,\n",
       " 165,\n",
       " 204,\n",
       " 'Mohan',\n",
       " 'Mohan',\n",
       " ['chinna', 'ravi'],\n",
       " 'shiva',\n",
       " ['chinna', 'ravi'],\n",
       " ['chinna', 'ravi'],\n",
       " ['Hello', 'World']]"
      ]
     },
     "execution_count": 42,
     "metadata": {},
     "output_type": "execute_result"
    }
   ],
   "source": [
    "list"
   ]
  },
  {
   "cell_type": "code",
   "execution_count": 46,
   "id": "8583e445",
   "metadata": {},
   "outputs": [
    {
     "data": {
      "text/plain": [
       "[1, 2, 3]"
      ]
     },
     "execution_count": 46,
     "metadata": {},
     "output_type": "execute_result"
    }
   ],
   "source": [
    "list=[1,2,3]\n",
    "\n",
    "list"
   ]
  },
  {
   "cell_type": "code",
   "execution_count": 47,
   "id": "60c47741",
   "metadata": {},
   "outputs": [
    {
     "data": {
      "text/plain": [
       "[1, 2, 3, [4, 5]]"
      ]
     },
     "execution_count": 47,
     "metadata": {},
     "output_type": "execute_result"
    }
   ],
   "source": [
    "list.append([4,5])\n",
    "list"
   ]
  },
  {
   "cell_type": "markdown",
   "id": "ddbe2809",
   "metadata": {},
   "source": [
    "### Extend Method\n",
    "\n",
    "The extend() method adds all the elements of an iterable (list, tuple, string etc.) to the end of the list"
   ]
  },
  {
   "cell_type": "code",
   "execution_count": 1,
   "id": "56f9828c",
   "metadata": {},
   "outputs": [],
   "source": [
    "list=[1,2,3,4,5,6]\n",
    "list.extend([8,9])"
   ]
  },
  {
   "cell_type": "code",
   "execution_count": 2,
   "id": "75cc14e4",
   "metadata": {},
   "outputs": [
    {
     "data": {
      "text/plain": [
       "[1, 2, 3, 4, 5, 6, 8, 9]"
      ]
     },
     "execution_count": 2,
     "metadata": {},
     "output_type": "execute_result"
    }
   ],
   "source": [
    "list"
   ]
  },
  {
   "cell_type": "markdown",
   "id": "7e7e7262",
   "metadata": {},
   "source": [
    "#### Various Operations that we can perform in List\n"
   ]
  },
  {
   "cell_type": "code",
   "execution_count": 3,
   "id": "a38f2903",
   "metadata": {},
   "outputs": [
    {
     "data": {
      "text/plain": [
       "15"
      ]
     },
     "execution_count": 3,
     "metadata": {},
     "output_type": "execute_result"
    }
   ],
   "source": [
    "list=[1,2,3,4,5]\n",
    "sum(list)"
   ]
  },
  {
   "cell_type": "code",
   "execution_count": 4,
   "id": "0bce8258",
   "metadata": {},
   "outputs": [
    {
     "data": {
      "text/plain": [
       "[1, 2, 3, 4, 5, 1, 2, 3, 4, 5, 1, 2, 3, 4, 5, 1, 2, 3, 4, 5, 1, 2, 3, 4, 5]"
      ]
     },
     "execution_count": 4,
     "metadata": {},
     "output_type": "execute_result"
    }
   ],
   "source": [
    "list*5"
   ]
  },
  {
   "cell_type": "markdown",
   "id": "08c205d3",
   "metadata": {},
   "source": [
    "### pop() Method\n",
    "\n",
    "   * The pop() method removes the element at the specified position."
   ]
  },
  {
   "cell_type": "code",
   "execution_count": 5,
   "id": "f681ef03",
   "metadata": {},
   "outputs": [
    {
     "data": {
      "text/plain": [
       "5"
      ]
     },
     "execution_count": 5,
     "metadata": {},
     "output_type": "execute_result"
    }
   ],
   "source": [
    "list.pop()"
   ]
  },
  {
   "cell_type": "code",
   "execution_count": 6,
   "id": "1efe47d6",
   "metadata": {},
   "outputs": [
    {
     "data": {
      "text/plain": [
       "[1, 2, 3, 4]"
      ]
     },
     "execution_count": 6,
     "metadata": {},
     "output_type": "execute_result"
    }
   ],
   "source": [
    "list"
   ]
  },
  {
   "cell_type": "code",
   "execution_count": 7,
   "id": "6fc41867",
   "metadata": {},
   "outputs": [
    {
     "data": {
      "text/plain": [
       "4"
      ]
     },
     "execution_count": 7,
     "metadata": {},
     "output_type": "execute_result"
    }
   ],
   "source": [
    "list.pop()"
   ]
  },
  {
   "cell_type": "code",
   "execution_count": 8,
   "id": "fc53b7bf",
   "metadata": {},
   "outputs": [
    {
     "data": {
      "text/plain": [
       "1"
      ]
     },
     "execution_count": 8,
     "metadata": {},
     "output_type": "execute_result"
    }
   ],
   "source": [
    "list.pop(0)"
   ]
  },
  {
   "cell_type": "code",
   "execution_count": 9,
   "id": "6ad17f58",
   "metadata": {},
   "outputs": [
    {
     "data": {
      "text/plain": [
       "[2, 3]"
      ]
     },
     "execution_count": 9,
     "metadata": {},
     "output_type": "execute_result"
    }
   ],
   "source": [
    "list"
   ]
  },
  {
   "cell_type": "markdown",
   "id": "2296145b",
   "metadata": {},
   "source": [
    "### count(): Calculates total occurrence of given element of List\n"
   ]
  },
  {
   "cell_type": "code",
   "execution_count": 12,
   "id": "12c182ce",
   "metadata": {},
   "outputs": [
    {
     "data": {
      "text/plain": [
       "2"
      ]
     },
     "execution_count": 12,
     "metadata": {},
     "output_type": "execute_result"
    }
   ],
   "source": [
    "list = [1,1,2,3,4,5]\n",
    "list.count(1)"
   ]
  },
  {
   "cell_type": "code",
   "execution_count": 13,
   "id": "e877f62a",
   "metadata": {},
   "outputs": [
    {
     "data": {
      "text/plain": [
       "6"
      ]
     },
     "execution_count": 13,
     "metadata": {},
     "output_type": "execute_result"
    }
   ],
   "source": [
    "#length:Calculates total length of List\n",
    "\n",
    "len(list)"
   ]
  },
  {
   "cell_type": "code",
   "execution_count": 15,
   "id": "d6d5f1d8",
   "metadata": {},
   "outputs": [
    {
     "data": {
      "text/plain": [
       "1"
      ]
     },
     "execution_count": 15,
     "metadata": {},
     "output_type": "execute_result"
    }
   ],
   "source": [
    "# index(): Returns the index of first occurrence. Start and End index are not necessary parameters\n",
    "list.index(1,1,4)"
   ]
  },
  {
   "cell_type": "code",
   "execution_count": 16,
   "id": "7bbb56e6",
   "metadata": {},
   "outputs": [
    {
     "data": {
      "text/plain": [
       "1"
      ]
     },
     "execution_count": 16,
     "metadata": {},
     "output_type": "execute_result"
    }
   ],
   "source": [
    "##Min and Max\n",
    "min(list)"
   ]
  },
  {
   "cell_type": "code",
   "execution_count": 17,
   "id": "9c170aef",
   "metadata": {},
   "outputs": [
    {
     "data": {
      "text/plain": [
       "5"
      ]
     },
     "execution_count": 17,
     "metadata": {},
     "output_type": "execute_result"
    }
   ],
   "source": [
    "max(list)"
   ]
  },
  {
   "cell_type": "markdown",
   "id": "8ebaf6ff",
   "metadata": {},
   "source": [
    "### SETS\n",
    "***********\n",
    "A Set is an unordered collection data type that is iterable, mutable, and has no duplicate elements. Python's set class represents the mathematical notion of a set.This is based on a data structure known as a hash table"
   ]
  },
  {
   "cell_type": "code",
   "execution_count": 18,
   "id": "1df6d156",
   "metadata": {},
   "outputs": [
    {
     "name": "stdout",
     "output_type": "stream",
     "text": [
      "set()\n",
      "<class 'set'>\n"
     ]
    }
   ],
   "source": [
    "## Defining an empy set\n",
    "\n",
    "set_var= set()\n",
    "print(set_var)\n",
    "print(type(set_var))"
   ]
  },
  {
   "cell_type": "code",
   "execution_count": 19,
   "id": "9be0c92a",
   "metadata": {},
   "outputs": [],
   "source": [
    "set_var={1,2,3,4,3}"
   ]
  },
  {
   "cell_type": "code",
   "execution_count": 20,
   "id": "61985011",
   "metadata": {},
   "outputs": [
    {
     "data": {
      "text/plain": [
       "{1, 2, 3, 4}"
      ]
     },
     "execution_count": 20,
     "metadata": {},
     "output_type": "execute_result"
    }
   ],
   "source": [
    "set_var"
   ]
  },
  {
   "cell_type": "code",
   "execution_count": 21,
   "id": "e8dc7ddc",
   "metadata": {},
   "outputs": [
    {
     "name": "stdout",
     "output_type": "stream",
     "text": [
      "{'Avatar2', 'Bahubali', 'RRR'}\n"
     ]
    },
    {
     "data": {
      "text/plain": [
       "set"
      ]
     },
     "execution_count": 21,
     "metadata": {},
     "output_type": "execute_result"
    }
   ],
   "source": [
    "set_var={\"Avatar2\",\"RRR\",'Bahubali'}\n",
    "print(set_var)\n",
    "type(set_var)"
   ]
  },
  {
   "cell_type": "code",
   "execution_count": 22,
   "id": "41a6533b",
   "metadata": {},
   "outputs": [],
   "source": [
    "# Inbuilt function in sets\n",
    "\n",
    "set_var.add(\"Akhanda\")"
   ]
  },
  {
   "cell_type": "code",
   "execution_count": 23,
   "id": "4cc84ac9",
   "metadata": {},
   "outputs": [
    {
     "name": "stdout",
     "output_type": "stream",
     "text": [
      "{'Avatar2', 'Akhanda', 'Bahubali', 'RRR'}\n"
     ]
    }
   ],
   "source": [
    "print(set_var)"
   ]
  },
  {
   "cell_type": "code",
   "execution_count": 31,
   "id": "90f17410",
   "metadata": {},
   "outputs": [],
   "source": [
    "set1 = {\"Avatar2\",\"RRR\",'Bahubali'}\n",
    "set2 = {\"Avatar2\",\"RRR\",'Bahubali',\"Akhanda2\"}"
   ]
  },
  {
   "cell_type": "code",
   "execution_count": 32,
   "id": "60a91970",
   "metadata": {},
   "outputs": [],
   "source": [
    "set2.intersection_update(set1)"
   ]
  },
  {
   "cell_type": "code",
   "execution_count": 35,
   "id": "5a8d1431",
   "metadata": {},
   "outputs": [
    {
     "data": {
      "text/plain": [
       "{'Avatar2', 'Bahubali', 'RRR'}"
      ]
     },
     "execution_count": 35,
     "metadata": {},
     "output_type": "execute_result"
    }
   ],
   "source": [
    "set2"
   ]
  },
  {
   "cell_type": "markdown",
   "id": "2563e168",
   "metadata": {},
   "source": [
    "**Python intersection_update() method** is used to update a set with common elements only of all the sets passed in parameter of intersection_update() method.\n",
    "\n",
    "### Python set intersection_update() Method Syntax:\n",
    "\n",
    "**Syntax:** set.intersection_update(set1,set2,set3,………..,set n)\n",
    "\n",
    "**Parameters:** \n",
    "\n",
    "  * One or more sets\n",
    "  "
   ]
  },
  {
   "cell_type": "code",
   "execution_count": 36,
   "id": "c2192b2e",
   "metadata": {},
   "outputs": [
    {
     "data": {
      "text/plain": [
       "set()"
      ]
     },
     "execution_count": 36,
     "metadata": {},
     "output_type": "execute_result"
    }
   ],
   "source": [
    "##Difference \n",
    "\n",
    "set2.difference(set1)"
   ]
  },
  {
   "cell_type": "markdown",
   "id": "a7e40e0f",
   "metadata": {},
   "source": [
    "### Dictionaries\n",
    "*******\n",
    "Dictionary in Python is a collection of keys values, used to store data values like a map, which, unlike other data types which hold only a single value as an element.\n",
    "\n",
    "### Example of Dictionary in Python \n",
    "*****\n",
    "Dictionary holds key:value pair. Key-Value is provided in the dictionary to make it more optimized. "
   ]
  },
  {
   "cell_type": "code",
   "execution_count": 37,
   "id": "a68068c9",
   "metadata": {},
   "outputs": [],
   "source": [
    "dic={}"
   ]
  },
  {
   "cell_type": "code",
   "execution_count": 38,
   "id": "c11f65d8",
   "metadata": {},
   "outputs": [
    {
     "data": {
      "text/plain": [
       "dict"
      ]
     },
     "execution_count": 38,
     "metadata": {},
     "output_type": "execute_result"
    }
   ],
   "source": [
    "type(dic)"
   ]
  },
  {
   "cell_type": "code",
   "execution_count": 39,
   "id": "2204517b",
   "metadata": {},
   "outputs": [
    {
     "data": {
      "text/plain": [
       "dict"
      ]
     },
     "execution_count": 39,
     "metadata": {},
     "output_type": "execute_result"
    }
   ],
   "source": [
    "type(dict())"
   ]
  },
  {
   "cell_type": "code",
   "execution_count": 40,
   "id": "72ecc243",
   "metadata": {},
   "outputs": [],
   "source": [
    "set_ex={1,2,3,4,5}"
   ]
  },
  {
   "cell_type": "code",
   "execution_count": 42,
   "id": "fda1fe97",
   "metadata": {},
   "outputs": [
    {
     "data": {
      "text/plain": [
       "set"
      ]
     },
     "execution_count": 42,
     "metadata": {},
     "output_type": "execute_result"
    }
   ],
   "source": [
    "type(set_ex)"
   ]
  },
  {
   "cell_type": "code",
   "execution_count": 43,
   "id": "771cd789",
   "metadata": {},
   "outputs": [],
   "source": [
    "## Let create a dictionary\n",
    "\n",
    "my_dict={\"Car1\": \"Audi\", \"Car2\":\"BMW\",\"Car3\":\"Mercidies Benz\"}"
   ]
  },
  {
   "cell_type": "code",
   "execution_count": 44,
   "id": "644e4755",
   "metadata": {},
   "outputs": [
    {
     "data": {
      "text/plain": [
       "dict"
      ]
     },
     "execution_count": 44,
     "metadata": {},
     "output_type": "execute_result"
    }
   ],
   "source": [
    "type(my_dict)"
   ]
  },
  {
   "cell_type": "code",
   "execution_count": 45,
   "id": "fbc172a8",
   "metadata": {},
   "outputs": [
    {
     "data": {
      "text/plain": [
       "'Audi'"
      ]
     },
     "execution_count": 45,
     "metadata": {},
     "output_type": "execute_result"
    }
   ],
   "source": [
    "##Access the item values based on keys\n",
    "\n",
    "my_dict['Car1']"
   ]
  },
  {
   "cell_type": "code",
   "execution_count": 46,
   "id": "b44ea97b",
   "metadata": {},
   "outputs": [
    {
     "name": "stdout",
     "output_type": "stream",
     "text": [
      "Car1\n",
      "Car2\n",
      "Car3\n"
     ]
    }
   ],
   "source": [
    "# We can even loop throught the dictionaries keys\n",
    "\n",
    "for x in my_dict:\n",
    "    print(x)"
   ]
  },
  {
   "cell_type": "code",
   "execution_count": 47,
   "id": "7c685379",
   "metadata": {},
   "outputs": [
    {
     "name": "stdout",
     "output_type": "stream",
     "text": [
      "Audi\n",
      "BMW\n",
      "Mercidies Benz\n"
     ]
    }
   ],
   "source": [
    "# We can even loop throught the dictionaries values\n",
    "\n",
    "for x in my_dict.values():\n",
    "    print(x)"
   ]
  },
  {
   "cell_type": "code",
   "execution_count": 48,
   "id": "6d97581e",
   "metadata": {},
   "outputs": [
    {
     "name": "stdout",
     "output_type": "stream",
     "text": [
      "('Car1', 'Audi')\n",
      "('Car2', 'BMW')\n",
      "('Car3', 'Mercidies Benz')\n"
     ]
    }
   ],
   "source": [
    "# We can also check both keys and values\n",
    "for x in my_dict.items():\n",
    "    print(x)"
   ]
  },
  {
   "cell_type": "code",
   "execution_count": 49,
   "id": "922c6f51",
   "metadata": {},
   "outputs": [],
   "source": [
    "# Adding items in Dictionaries\n",
    "\n",
    "my_dict['car4']='Audi 2.0'"
   ]
  },
  {
   "cell_type": "code",
   "execution_count": 50,
   "id": "373a6a7d",
   "metadata": {},
   "outputs": [
    {
     "data": {
      "text/plain": [
       "{'Car1': 'Audi', 'Car2': 'BMW', 'Car3': 'Mercidies Benz', 'car4': 'Audi 2.0'}"
      ]
     },
     "execution_count": 50,
     "metadata": {},
     "output_type": "execute_result"
    }
   ],
   "source": [
    "my_dict\n"
   ]
  },
  {
   "cell_type": "code",
   "execution_count": 52,
   "id": "6e8a4b4e",
   "metadata": {},
   "outputs": [
    {
     "data": {
      "text/plain": [
       "{'Car1': 'Maruti', 'Car2': 'BMW', 'Car3': 'Mercidies Benz', 'car4': 'Audi 2.0'}"
      ]
     },
     "execution_count": 52,
     "metadata": {},
     "output_type": "execute_result"
    }
   ],
   "source": [
    "my_dict['Car1']='Maruti'\n",
    "\n",
    "my_dict"
   ]
  },
  {
   "cell_type": "markdown",
   "id": "95593200",
   "metadata": {},
   "source": [
    "### Nested Dictionary\n",
    "***********\n",
    "**Prerequisite – Python dictionary**\n",
    "A Dictionary in Python works similar to the Dictionary in the real world. Keys of a Dictionary must be unique and of immutable data type such as Strings, Integers and tuples, but the key-values can be repeated and be of any type.\n",
    "\n",
    "**Nested Dictionary:** Nesting Dictionary means putting a dictionary inside another dictionary. Nesting is of great use as the kind of information we can model in programs is expanded greatly. "
   ]
  },
  {
   "cell_type": "code",
   "execution_count": 53,
   "id": "922ad8d9",
   "metadata": {},
   "outputs": [],
   "source": [
    "car1_model={'Mercedes':1960}\n",
    "car2_model={'Audi':1970}\n",
    "car3_model={'Ambassador':1980}\n",
    "\n",
    "car_type={'car1':car1_model,'car2':car2_model,'car3':car3_model}"
   ]
  },
  {
   "cell_type": "code",
   "execution_count": 54,
   "id": "490b56d1",
   "metadata": {},
   "outputs": [
    {
     "name": "stdout",
     "output_type": "stream",
     "text": [
      "{'car1': {'Mercedes': 1960}, 'car2': {'Audi': 1970}, 'car3': {'Ambassador': 1980}}\n"
     ]
    }
   ],
   "source": [
    "print(car_type)"
   ]
  },
  {
   "cell_type": "code",
   "execution_count": 55,
   "id": "08f94fed",
   "metadata": {},
   "outputs": [
    {
     "name": "stdout",
     "output_type": "stream",
     "text": [
      "{'Mercedes': 1960}\n"
     ]
    }
   ],
   "source": [
    "# Accessing the items in the dictionary\n",
    "\n",
    "print(car_type['car1'])"
   ]
  },
  {
   "cell_type": "code",
   "execution_count": 56,
   "id": "5d9eee20",
   "metadata": {},
   "outputs": [
    {
     "name": "stdout",
     "output_type": "stream",
     "text": [
      "{'Ambassador': 1980}\n"
     ]
    }
   ],
   "source": [
    "print(car_type['car3'])"
   ]
  },
  {
   "cell_type": "markdown",
   "id": "96dae012",
   "metadata": {},
   "source": [
    "**Python Tuple** is a collection of objects separated by commas. In some ways, a tuple is similar to a list in terms of indexing, nested objects, and repetition but a tuple is immutable, unlike lists which are mutable.\n",
    "\n",
    "## Creating Python Tuples\n",
    "To create a tuple we will use () operators."
   ]
  },
  {
   "cell_type": "code",
   "execution_count": 58,
   "id": "bfad9fa8",
   "metadata": {},
   "outputs": [],
   "source": [
    "# create an empty Tuples\n",
    "\n",
    "my_tuple=tuple()"
   ]
  },
  {
   "cell_type": "code",
   "execution_count": 59,
   "id": "59b3a1aa",
   "metadata": {},
   "outputs": [
    {
     "data": {
      "text/plain": [
       "tuple"
      ]
     },
     "execution_count": 59,
     "metadata": {},
     "output_type": "execute_result"
    }
   ],
   "source": [
    "type(my_tuple)"
   ]
  },
  {
   "cell_type": "code",
   "execution_count": 60,
   "id": "cf15d3b8",
   "metadata": {},
   "outputs": [],
   "source": [
    "my_tuple=()"
   ]
  },
  {
   "cell_type": "code",
   "execution_count": 61,
   "id": "344ac89e",
   "metadata": {},
   "outputs": [
    {
     "data": {
      "text/plain": [
       "tuple"
      ]
     },
     "execution_count": 61,
     "metadata": {},
     "output_type": "execute_result"
    }
   ],
   "source": [
    "type(my_tuple)"
   ]
  },
  {
   "cell_type": "code",
   "execution_count": 62,
   "id": "18e5aff4",
   "metadata": {},
   "outputs": [
    {
     "name": "stdout",
     "output_type": "stream",
     "text": [
      "('Mohan', 'Shashikanth', 'Rahul')\n"
     ]
    }
   ],
   "source": [
    "var = (\"Mohan\", \"Shashikanth\", \"Rahul\")\n",
    "print(var)\n"
   ]
  },
  {
   "cell_type": "code",
   "execution_count": 64,
   "id": "dfd23126",
   "metadata": {},
   "outputs": [
    {
     "name": "stdout",
     "output_type": "stream",
     "text": [
      "(1, 2, 4, 'John')\n"
     ]
    }
   ],
   "source": [
    "# A new way of creating Python Tuples in Python 3.11 \n",
    "\n",
    "values : tuple[int | str, ...] = (1,2,4,\"John\")\n",
    "\n",
    "print(values)\n",
    "\n",
    "# Here, in the above snipper we are considering a variable called values which holds a tuple which consists of either int or str , the ‘…’ means that the tuple will hold more than one int or str\n",
    "\n",
    "# Note: In case your generating a tuple with a single element, make sure to add a comma after the element. "
   ]
  },
  {
   "cell_type": "markdown",
   "id": "43ca9ea0",
   "metadata": {},
   "source": [
    "## Accessing Values in Python Tuples\n",
    "*****\n",
    "**Method 1:** Using Positive Index\n",
    "    \n",
    "Using square brackets we can get the values from tuples in Python."
   ]
  },
  {
   "cell_type": "code",
   "execution_count": 65,
   "id": "0d5936ca",
   "metadata": {},
   "outputs": [
    {
     "name": "stdout",
     "output_type": "stream",
     "text": [
      "value in var[0]= Add\n",
      "value in var[1]= Multiply\n",
      "value in var[2]= Division\n"
     ]
    }
   ],
   "source": [
    "var = (\"Add\", \"Multiply\", \"Division\")\n",
    "print(\"value in var[0]=\", var[0])\n",
    "print(\"value in var[1]=\", var[1])\n",
    "print(\"value in var[2]=\", var[2])"
   ]
  },
  {
   "cell_type": "markdown",
   "id": "3a004a4d",
   "metadata": {},
   "source": [
    "### Method 2: Using Negative Index.\n",
    "******\n",
    "In the above methods, we use the positive index to access the value in Python, and here we will use -ve index within []."
   ]
  },
  {
   "cell_type": "code",
   "execution_count": 67,
   "id": "22f75fcb",
   "metadata": {},
   "outputs": [
    {
     "name": "stdout",
     "output_type": "stream",
     "text": [
      "value in var[-3]= Add\n",
      "value in var[-2]= Multiply\n",
      "value in var[-1]= Division\n"
     ]
    }
   ],
   "source": [
    "var = (\"Add\", \"Multiply\", \"Division\")\n",
    "print(\"value in var[-3]=\", var[-3])\n",
    "print(\"value in var[-2]=\", var[-2])\n",
    "print(\"value in var[-1]=\", var[-1])"
   ]
  },
  {
   "cell_type": "markdown",
   "id": "b64a675c",
   "metadata": {},
   "source": [
    "### Concatenation of Python Tuples\n",
    "**********\n",
    "To concatenate the Python tuple we will use plus operators(+)."
   ]
  },
  {
   "cell_type": "code",
   "execution_count": 68,
   "id": "8e9ef4ea",
   "metadata": {},
   "outputs": [
    {
     "name": "stdout",
     "output_type": "stream",
     "text": [
      "(0, 1, 2, 3, 'mango', 'apple')\n"
     ]
    }
   ],
   "source": [
    "# Code for concatenating 2 tuples\n",
    "\n",
    "tuple1 = (0, 1, 2, 3)\n",
    "tuple2 = ('mango', 'apple')\n",
    "\n",
    "# Concatenating above two\n",
    "\n",
    "print(tuple1 + tuple2)"
   ]
  },
  {
   "cell_type": "code",
   "execution_count": 70,
   "id": "b22be47a",
   "metadata": {},
   "outputs": [
    {
     "name": "stdout",
     "output_type": "stream",
     "text": [
      "((0, 1, 2, 3), ('mango', 'apple'))\n"
     ]
    }
   ],
   "source": [
    "# Nesting of Python Tuples\n",
    "\n",
    "tuple1 = (0, 1, 2, 3)\n",
    "tuple2 = ('mango', 'apple')\n",
    "tuple3 = (tuple1,tuple2)\n",
    "print(tuple3)"
   ]
  },
  {
   "cell_type": "code",
   "execution_count": 71,
   "id": "e82db18e",
   "metadata": {},
   "outputs": [
    {
     "name": "stdout",
     "output_type": "stream",
     "text": [
      "('mango', 'mango', 'mango')\n"
     ]
    }
   ],
   "source": [
    "#  Repetition Python Tuples\n",
    "# Code to create a tuple with repetition\n",
    "\n",
    "tuple3 = ('mango',)*3\n",
    "print(tuple3)"
   ]
  },
  {
   "cell_type": "markdown",
   "id": "70ddcf9c",
   "metadata": {},
   "source": [
    "## Slicing Python Tuples\n",
    "**********\n",
    "Tuple slicing is basically used to obtain a range of items. Furthermore, we perform tuple slicing using the slicing operator. We can represent the slicing operator in the syntax [start:stop:step]. Moreover, it is not necessary to mention the 'step' part."
   ]
  },
  {
   "cell_type": "code",
   "execution_count": 72,
   "id": "b851539a",
   "metadata": {},
   "outputs": [
    {
     "name": "stdout",
     "output_type": "stream",
     "text": [
      "(1, 2, 3)\n",
      "(3, 2, 1, 0)\n",
      "(2, 3)\n"
     ]
    }
   ],
   "source": [
    "# code to test slicing\n",
    "\n",
    "tuple1 = (0 ,1, 2, 3)\n",
    "print(tuple1[1:])\n",
    "print(tuple1[::-1])\n",
    "print(tuple1[2:4])\n"
   ]
  },
  {
   "cell_type": "code",
   "execution_count": 73,
   "id": "354d9bcc",
   "metadata": {},
   "outputs": [
    {
     "ename": "NameError",
     "evalue": "name 'tuple3' is not defined",
     "output_type": "error",
     "traceback": [
      "\u001b[1;31m---------------------------------------------------------------------------\u001b[0m",
      "\u001b[1;31mNameError\u001b[0m                                 Traceback (most recent call last)",
      "Cell \u001b[1;32mIn[73], line 5\u001b[0m\n\u001b[0;32m      3\u001b[0m tuple3 \u001b[38;5;241m=\u001b[39m ( \u001b[38;5;241m0\u001b[39m, \u001b[38;5;241m1\u001b[39m)\n\u001b[0;32m      4\u001b[0m \u001b[38;5;28;01mdel\u001b[39;00m tuple3\n\u001b[1;32m----> 5\u001b[0m \u001b[38;5;28mprint\u001b[39m(\u001b[43mtuple3\u001b[49m)\n",
      "\u001b[1;31mNameError\u001b[0m: name 'tuple3' is not defined"
     ]
    }
   ],
   "source": [
    "# Code for deleting a tuple\n",
    "\n",
    "tuple3 = ( 0, 1)\n",
    "del tuple3\n",
    "print(tuple3)"
   ]
  },
  {
   "cell_type": "markdown",
   "id": "edc6ff18",
   "metadata": {},
   "source": [
    "##  Finding Length of a Tuple\n",
    "******\n",
    "The len() method returns the total number of elements in the given tuple"
   ]
  },
  {
   "cell_type": "code",
   "execution_count": 74,
   "id": "07be8e67",
   "metadata": {},
   "outputs": [
    {
     "name": "stdout",
     "output_type": "stream",
     "text": [
      "2\n"
     ]
    }
   ],
   "source": [
    "# Code for printing the length of a tuple\n",
    "\n",
    "tuple2 = ('mango', 'apple')\n",
    "print(len(tuple2))\n"
   ]
  },
  {
   "cell_type": "markdown",
   "id": "35368538",
   "metadata": {},
   "source": [
    "### Converting list to a Tuple\n",
    "****"
   ]
  },
  {
   "cell_type": "code",
   "execution_count": 75,
   "id": "430285c8",
   "metadata": {},
   "outputs": [
    {
     "name": "stdout",
     "output_type": "stream",
     "text": [
      "(0, 1, 2)\n",
      "('p', 'y', 't', 'h', 'o', 'n')\n"
     ]
    }
   ],
   "source": [
    "# Code for converting a list and a string into a tuple\n",
    "\n",
    "list1 = [0, 1, 2]\n",
    "print(tuple(list1))\n",
    "print(tuple('python')) # string 'python'\n"
   ]
  },
  {
   "cell_type": "markdown",
   "id": "a66016a2",
   "metadata": {},
   "source": [
    "### Tuples in a loop"
   ]
  },
  {
   "cell_type": "code",
   "execution_count": 76,
   "id": "ff3a17f9",
   "metadata": {},
   "outputs": [
    {
     "name": "stdout",
     "output_type": "stream",
     "text": [
      "('Nayak',)\n",
      "(('Nayak',),)\n",
      "((('Nayak',),),)\n",
      "(((('Nayak',),),),)\n",
      "((((('Nayak',),),),),)\n"
     ]
    }
   ],
   "source": [
    "# python code for creating tuples in a loop\n",
    "tup = ('Nayak')\n",
    "n = 5 # Number of time loop runs\n",
    "for i in range (int(n)):\n",
    "    tup = (tup,)\n",
    "    print(tup)"
   ]
  },
  {
   "cell_type": "code",
   "execution_count": null,
   "id": "d92cd956",
   "metadata": {},
   "outputs": [],
   "source": []
  }
 ],
 "metadata": {
  "kernelspec": {
   "display_name": "Python 3 (ipykernel)",
   "language": "python",
   "name": "python3"
  },
  "language_info": {
   "codemirror_mode": {
    "name": "ipython",
    "version": 3
   },
   "file_extension": ".py",
   "mimetype": "text/x-python",
   "name": "python",
   "nbconvert_exporter": "python",
   "pygments_lexer": "ipython3",
   "version": "3.11.0"
  }
 },
 "nbformat": 4,
 "nbformat_minor": 5
}
