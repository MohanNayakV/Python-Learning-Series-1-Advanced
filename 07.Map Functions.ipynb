{
 "cells": [
  {
   "cell_type": "markdown",
   "id": "629d2461",
   "metadata": {},
   "source": [
    "### Python Notes\n",
    "\n",
    "#### Notes Prepared by Mohan Nayak\n",
    "###### You can follow me on linkedin https://www.linkedin.com/in/mohan-nayak-49954392?lipi=urn%3Ali%3Apage%3Ad_flagship3_profile_view_base_contact_details%3BQ6mx07N%2FTOqTI9Op6fyvWA%3D%3D"
   ]
  },
  {
   "cell_type": "markdown",
   "id": "251f30e3",
   "metadata": {},
   "source": [
    "## Map Function in Python"
   ]
  },
  {
   "cell_type": "code",
   "execution_count": 2,
   "id": "4d9b5d80",
   "metadata": {},
   "outputs": [],
   "source": [
    "def even_or_odd(num):\n",
    "    if num%2==0:\n",
    "        return \"The Number {} is even\".format(num)\n",
    "    else:\n",
    "        return \"The Number {} is odd\".format(num)"
   ]
  },
  {
   "cell_type": "code",
   "execution_count": 3,
   "id": "bdfc86ee",
   "metadata": {},
   "outputs": [
    {
     "data": {
      "text/plain": [
       "'The Number 22 is even'"
      ]
     },
     "execution_count": 3,
     "metadata": {},
     "output_type": "execute_result"
    }
   ],
   "source": [
    "even_or_odd(22)"
   ]
  },
  {
   "cell_type": "code",
   "execution_count": 4,
   "id": "839d15b7",
   "metadata": {},
   "outputs": [],
   "source": [
    "lst_one_1=[1,2,3,4,5,6,7,24,56,78]"
   ]
  },
  {
   "cell_type": "code",
   "execution_count": 5,
   "id": "517fc8b2",
   "metadata": {},
   "outputs": [
    {
     "data": {
      "text/plain": [
       "['The Number 1 is odd',\n",
       " 'The Number 2 is even',\n",
       " 'The Number 3 is odd',\n",
       " 'The Number 4 is even',\n",
       " 'The Number 5 is odd',\n",
       " 'The Number 6 is even',\n",
       " 'The Number 7 is odd',\n",
       " 'The Number 24 is even',\n",
       " 'The Number 56 is even',\n",
       " 'The Number 78 is even']"
      ]
     },
     "execution_count": 5,
     "metadata": {},
     "output_type": "execute_result"
    }
   ],
   "source": [
    "list(map(even_or_odd,lst_one_1))"
   ]
  },
  {
   "cell_type": "code",
   "execution_count": null,
   "id": "2c66b617",
   "metadata": {},
   "outputs": [],
   "source": []
  }
 ],
 "metadata": {
  "kernelspec": {
   "display_name": "Python 3 (ipykernel)",
   "language": "python",
   "name": "python3"
  },
  "language_info": {
   "codemirror_mode": {
    "name": "ipython",
    "version": 3
   },
   "file_extension": ".py",
   "mimetype": "text/x-python",
   "name": "python",
   "nbconvert_exporter": "python",
   "pygments_lexer": "ipython3",
   "version": "3.11.0"
  }
 },
 "nbformat": 4,
 "nbformat_minor": 5
}
