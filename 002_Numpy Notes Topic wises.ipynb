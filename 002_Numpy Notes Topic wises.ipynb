{
 "cells": [
  {
   "cell_type": "markdown",
   "id": "68e08b60",
   "metadata": {},
   "source": [
    "### Python Notes\n",
    "\n",
    "#### Notes Prepared by Mohan Nayak\n",
    "###### You can follow me on linkedin https://www.linkedin.com/in/mohan-nayak-49954392?lipi=urn%3Ali%3Apage%3Ad_flagship3_profile_view_base_contact_details%3BQ6mx07N%2FTOqTI9Op6fyvWA%3D%3D"
   ]
  },
  {
   "cell_type": "markdown",
   "id": "d5ce8ad2",
   "metadata": {},
   "source": [
    "## Numpy Rondom Module\n",
    "\n",
    "1. rand()\n",
    "\n",
    "2. randn()\n",
    "\n",
    "3. randint()\n",
    "****************\n",
    "1). **rand():** Creates array of specified shape and fills it with random values as per uniform distribution.\n"
   ]
  },
  {
   "cell_type": "code",
   "execution_count": 4,
   "id": "5aa193a2",
   "metadata": {},
   "outputs": [
    {
     "data": {
      "text/plain": [
       "array([[0.94267468, 0.41015803],\n",
       "       [0.45215694, 0.1922381 ],\n",
       "       [0.79068087, 0.76865186],\n",
       "       [0.88856185, 0.81239886],\n",
       "       [0.96814891, 0.39546763]])"
      ]
     },
     "execution_count": 4,
     "metadata": {},
     "output_type": "execute_result"
    }
   ],
   "source": [
    "# values will be\n",
    "import numpy as np\n",
    "np.random.rand(5,2)"
   ]
  },
  {
   "cell_type": "code",
   "execution_count": 5,
   "id": "bd224fac",
   "metadata": {
    "scrolled": true
   },
   "outputs": [
    {
     "data": {
      "text/plain": [
       "array([[[0.60177775, 0.07225305, 0.46358659, 0.87531735, 0.71057599],\n",
       "        [0.28436665, 0.57591109, 0.92535612, 0.82842371, 0.21724726],\n",
       "        [0.24233417, 0.9974262 , 0.06239621, 0.6633518 , 0.201302  ],\n",
       "        [0.39038374, 0.89315203, 0.2711717 , 0.129994  , 0.93385355]],\n",
       "\n",
       "       [[0.83034482, 0.14548332, 0.96345317, 0.10985829, 0.96543807],\n",
       "        [0.042049  , 0.29935238, 0.16804923, 0.44382894, 0.77350441],\n",
       "        [0.99341482, 0.01681707, 0.80464769, 0.52185098, 0.18253638],\n",
       "        [0.64616817, 0.2109583 , 0.18752707, 0.74880648, 0.91540407]],\n",
       "\n",
       "       [[0.32516381, 0.92998473, 0.33935353, 0.56213411, 0.2017226 ],\n",
       "        [0.82013535, 0.07849671, 0.92435803, 0.92870282, 0.59840137],\n",
       "        [0.43112919, 0.99971395, 0.91140192, 0.27783636, 0.77334429],\n",
       "        [0.70384031, 0.04506403, 0.20718655, 0.09703159, 0.65990959]]])"
      ]
     },
     "execution_count": 5,
     "metadata": {},
     "output_type": "execute_result"
    }
   ],
   "source": [
    "np.random.rand(3, 4, 5)"
   ]
  },
  {
   "cell_type": "markdown",
   "id": "f28a34ad",
   "metadata": {},
   "source": [
    "### Randn(): \n",
    "   Creates array of specified shape and fills with rondom values as per **standard normal distribution**"
   ]
  },
  {
   "cell_type": "code",
   "execution_count": 6,
   "id": "4b0b9a37",
   "metadata": {},
   "outputs": [
    {
     "data": {
      "text/plain": [
       "array([[-0.64513024, -0.334996  ],\n",
       "       [ 0.12416062, -1.16164156],\n",
       "       [-0.64825579, -1.23042209],\n",
       "       [ 1.04515669, -1.35992357],\n",
       "       [-0.91608282,  0.20524339]])"
      ]
     },
     "execution_count": 6,
     "metadata": {},
     "output_type": "execute_result"
    }
   ],
   "source": [
    "## randn()\n",
    "\n",
    "np.random.randn(5, 2)"
   ]
  },
  {
   "cell_type": "code",
   "execution_count": 7,
   "id": "7c787373",
   "metadata": {},
   "outputs": [
    {
     "data": {
      "text/plain": [
       "array([[[ 2.460019  , -0.35347667,  0.58514844,  1.30414096,\n",
       "          2.10069567],\n",
       "        [ 1.34033349, -0.87192427,  1.63350886,  0.23064577,\n",
       "          0.83404707],\n",
       "        [ 0.43737097, -1.12817512,  0.01040456,  0.07400487,\n",
       "         -1.46002342],\n",
       "        [ 0.66213536,  0.34016613,  0.14099219,  0.16989982,\n",
       "         -0.52346935]],\n",
       "\n",
       "       [[-0.62460384, -1.90714253, -1.45177668,  0.28924589,\n",
       "         -1.23211784],\n",
       "        [ 1.00926887,  0.97786747,  0.25766639, -0.8842393 ,\n",
       "         -0.38848564],\n",
       "        [-1.80133829, -0.4789224 ,  2.05720103,  0.3630875 ,\n",
       "          0.46702288],\n",
       "        [ 0.64978298,  0.15922197,  0.18580413, -1.2711613 ,\n",
       "          0.43681766]],\n",
       "\n",
       "       [[ 2.21175501,  0.69846513, -0.85382723,  1.29013195,\n",
       "         -1.01279413],\n",
       "        [ 0.2242705 ,  1.34542375,  0.27493187,  0.08426288,\n",
       "         -1.74446412],\n",
       "        [-0.40341855, -0.57951564,  0.33040831, -1.5508079 ,\n",
       "          0.68954458],\n",
       "        [ 0.46967716, -0.66543961, -0.62341477,  0.20116432,\n",
       "          0.91984703]]])"
      ]
     },
     "execution_count": 7,
     "metadata": {},
     "output_type": "execute_result"
    }
   ],
   "source": [
    "np.random.randn(3, 4, 5)"
   ]
  },
  {
   "cell_type": "markdown",
   "id": "f6109c10",
   "metadata": {},
   "source": [
    "### randint()\n",
    "*****\n",
    "    Creates array of specified shape and fills it with rondom integers from low to high"
   ]
  },
  {
   "cell_type": "code",
   "execution_count": 12,
   "id": "ad304f35",
   "metadata": {},
   "outputs": [
    {
     "data": {
      "text/plain": [
       "array([[1, 1, 1],\n",
       "       [2, 3, 3]])"
      ]
     },
     "execution_count": 12,
     "metadata": {},
     "output_type": "execute_result"
    }
   ],
   "source": [
    "np.random.randint(low=4,size=(2,3))"
   ]
  },
  {
   "cell_type": "markdown",
   "id": "8d5fbd99",
   "metadata": {},
   "source": [
    "## NumPy - Arrays - Attributes of a NumPy Array\n",
    "******\n",
    "NumPy array (ndarray class) is the most used construct of NumPy in Machine Learning and Deep Learning. Let us look into some important attributes of this NumPy array.\n",
    "\n",
    "Let us create a Numpy array first, say, array_A.\n",
    "\n",
    "Pass the above list to array() function of NumPy\n",
    "\n",
    "array_A = np.array([ [3,4,6], [0,8,1] ])\n",
    "\n",
    "Now, let us understand some important attributes of ndarray object using the above-created array array_A.\n"
   ]
  },
  {
   "cell_type": "markdown",
   "id": "94227cdb",
   "metadata": {},
   "source": [
    "**(1) ndarray.ndim**\n",
    "\n",
    "           ndim represents the number of dimensions (axes) of the ndarray.\n",
    "           \n",
    "           e.g. for this 2-dimensional array [ [3,4,6], [0,8,1]], value of ndim will be 2. This ndarray has two dimensions                  (axes) - rows (axis=0) and columns (axis=1)"
   ]
  },
  {
   "cell_type": "code",
   "execution_count": 14,
   "id": "a5ff0dc7",
   "metadata": {},
   "outputs": [
    {
     "data": {
      "text/plain": [
       "1"
      ]
     },
     "execution_count": 14,
     "metadata": {},
     "output_type": "execute_result"
    }
   ],
   "source": [
    "# Number of array one diemensions\n",
    "\n",
    "x = np.array([1, 2, 3])\n",
    "x.ndim"
   ]
  },
  {
   "cell_type": "markdown",
   "id": "72fc1d54",
   "metadata": {},
   "source": [
    "### (2) ndarray.shape\n",
    "\n",
    "shape is a tuple of integers representing the size of the ndarray in each dimension.\n",
    "\n"
   ]
  },
  {
   "cell_type": "code",
   "execution_count": 16,
   "id": "f3d64bbe",
   "metadata": {},
   "outputs": [
    {
     "data": {
      "text/plain": [
       "(2, 3)"
      ]
     },
     "execution_count": 16,
     "metadata": {},
     "output_type": "execute_result"
    }
   ],
   "source": [
    "import numpy as np \n",
    "a = np.array([[1,2,3],[4,5,6]]) \n",
    "a.shape"
   ]
  },
  {
   "cell_type": "code",
   "execution_count": 17,
   "id": "1b4a81eb",
   "metadata": {},
   "outputs": [
    {
     "data": {
      "text/plain": [
       "array([0., 0., 0., 0., 0.])"
      ]
     },
     "execution_count": 17,
     "metadata": {},
     "output_type": "execute_result"
    }
   ],
   "source": [
    "import numpy as np\n",
    "a = np.zeros(5)\n",
    "a"
   ]
  },
  {
   "cell_type": "code",
   "execution_count": 19,
   "id": "b707db13",
   "metadata": {},
   "outputs": [
    {
     "data": {
      "text/plain": [
       "1"
      ]
     },
     "execution_count": 19,
     "metadata": {},
     "output_type": "execute_result"
    }
   ],
   "source": [
    "a.ndim"
   ]
  },
  {
   "cell_type": "code",
   "execution_count": 20,
   "id": "6d9beed9",
   "metadata": {},
   "outputs": [
    {
     "data": {
      "text/plain": [
       "(5,)"
      ]
     },
     "execution_count": 20,
     "metadata": {},
     "output_type": "execute_result"
    }
   ],
   "source": [
    "a.shape"
   ]
  },
  {
   "attachments": {
    "image.png": {
     "image/png": "[encoded data removed]"
    }
   },
   "cell_type": "markdown",
   "id": "084c6e1f",
   "metadata": {},
   "source": [
    "### (3) ndarray.size\n",
    "\n",
    "To find python NumPy array size use size() function. The NumPy size() function has two arguments. First is an array, required an argument need to give array or array name. Second is an axis, default an argument. The axis contains none value, according to the requirement you can change it.\n",
    "\n",
    "The np.size() function count items from a given array and give output in the form of a number as size. \n",
    "\n",
    "Syntax: np.size(array, axis=None)\n",
    "\n",
    "![image.png](attachment:image.png)\n",
    "\n",
    "**One dimensional array** contains elements only in one dimension. In other words, the shape of the NumPy array should contain only one value in the tuple. Let us see how to create 1 dimensional NumPy arrays.\n",
    "\n",
    "**Method 1:** First make a list then pass it in **numpy.array()**\n",
    "\n"
   ]
  },
  {
   "cell_type": "code",
   "execution_count": 21,
   "id": "2ba405ac",
   "metadata": {},
   "outputs": [
    {
     "name": "stdout",
     "output_type": "stream",
     "text": [
      "[100 200 300 400]\n"
     ]
    }
   ],
   "source": [
    "# importing the module\n",
    "import numpy as np\n",
    "\n",
    "# creating the list\n",
    "\n",
    "list = [100, 200, 300, 400]\n",
    "\n",
    "# creating 1-d array\n",
    "\n",
    "n = np.array(list)\n",
    "print(n)\n",
    "\n"
   ]
  },
  {
   "cell_type": "markdown",
   "id": "573098cf",
   "metadata": {},
   "source": [
    "**Method 2: fromiter()** is useful for creating non-numeric sequence type array however it can create any type of array. Here we will convert a string into a NumPy array of characters."
   ]
  },
  {
   "cell_type": "code",
   "execution_count": 22,
   "id": "a892eb7b",
   "metadata": {},
   "outputs": [
    {
     "name": "stdout",
     "output_type": "stream",
     "text": [
      "['m' 'o' 'h' 'a' 'n' ' ' 'n' 'a' 'y' 'a' 'k']\n"
     ]
    }
   ],
   "source": [
    "# importing the module\n",
    "\n",
    "import numpy as np\n",
    "\n",
    "# creating the string\n",
    "str = \"mohan nayak\"\n",
    "\n",
    "# creating 1-d array\n",
    "x = np.fromiter(str, dtype = 'U2')\n",
    "print(x)\n"
   ]
  },
  {
   "cell_type": "markdown",
   "id": "944f44cf",
   "metadata": {},
   "source": [
    "**Method 3: arange()** returns evenly spaced values within a given interval.\n",
    "\n"
   ]
  },
  {
   "cell_type": "code",
   "execution_count": 23,
   "id": "b68d1b9d",
   "metadata": {},
   "outputs": [
    {
     "name": "stdout",
     "output_type": "stream",
     "text": [
      "[3 5 7 9]\n"
     ]
    }
   ],
   "source": [
    "# importing the module\n",
    "import numpy as np\n",
    "\n",
    "# creating 1-d array\n",
    "x = np.arange(3, 10, 2)\n",
    "print(x)\n"
   ]
  },
  {
   "cell_type": "markdown",
   "id": "9adcb201",
   "metadata": {},
   "source": [
    "**Method 4: linspace()** creates evenly space numerical elements between two given limits."
   ]
  },
  {
   "cell_type": "code",
   "execution_count": 24,
   "id": "07a6ecc5",
   "metadata": {},
   "outputs": [
    {
     "name": "stdout",
     "output_type": "stream",
     "text": [
      "[ 3.   6.5 10. ]\n"
     ]
    }
   ],
   "source": [
    "# importing the module\n",
    "\n",
    "import numpy as np\n",
    "\n",
    "# creating 1-d array\n",
    "\n",
    "x = np.linspace(3, 10, 3)\n",
    "print(x)\n"
   ]
  },
  {
   "cell_type": "markdown",
   "id": "db37bfa4",
   "metadata": {},
   "source": [
    "### Data type Object (dtype) in NumPy Python\n",
    "*****************************************************\n",
    "Every ndarray has an associated data type (dtype) object. This data type object (dtype) informs us about the layout of the array. This means it gives us information about: \n",
    "\n",
    "* Type of the data (integer, float, Python object, etc.)\n",
    "\n",
    "* Size of the data (number of bytes)\n",
    "\n",
    "* The byte order of the data (little-endian or big-endian)\n",
    "\n",
    "* If the data type is a sub-array, what is its shape and data type?\n",
    "\n",
    "The values of a ndarray are stored in a buffer which can be thought of as a contiguous block of memory bytes. So how these bytes will be interpreted is given by the dtype object.  \n",
    "\n",
    "**1. Constructing a data type (dtype) object:** A data type object is an instance of the NumPy.dtype class and it can be created using NumPy.dtype.\n",
    "\n",
    "**Parameters:**\n",
    "\n",
    "* **obj:** Object to be converted to a data-type object.\n",
    "\n",
    "* **align:** bool, optional\n",
    "Add padding to the fields to match what a C compiler would output for a similar C-struct.\n",
    "\n",
    "* **copy:** bool, optional \n",
    "Make a new copy of the data-type object. If False, the result may just be a reference to a built-in data-type object.\n"
   ]
  },
  {
   "cell_type": "code",
   "execution_count": 25,
   "id": "b7f4ba31",
   "metadata": {},
   "outputs": [
    {
     "name": "stdout",
     "output_type": "stream",
     "text": [
      "int16\n"
     ]
    }
   ],
   "source": [
    "# Python Program to create a data type object\n",
    "\n",
    "import numpy as np\n",
    "\n",
    "# np.int16 is converted into a data type object.\n",
    "\n",
    "print(np.dtype(np.int16))\n"
   ]
  },
  {
   "cell_type": "code",
   "execution_count": 26,
   "id": "5ceb3985",
   "metadata": {},
   "outputs": [
    {
     "name": "stdout",
     "output_type": "stream",
     "text": [
      "Byte order is: >\n",
      "Size is: 4\n",
      "Data type is: int32\n"
     ]
    }
   ],
   "source": [
    "# Python Program to create a data type object\n",
    "# containing a 32 bit big-endian integer\n",
    "\n",
    "import numpy as np\n",
    "\n",
    "# i4 represents integer of size 4 byte\n",
    "# > represents big-endian byte ordering and < represents little-endian encoding.\n",
    "# dt is a dtype object\n",
    "\n",
    "dt = np.dtype('>i4')\n",
    "\n",
    "print(\"Byte order is:\",dt.byteorder)\n",
    "\n",
    "print(\"Size is:\",dt.itemsize)\n",
    "\n",
    "print(\"Data type is:\",dt.name)\n"
   ]
  },
  {
   "cell_type": "markdown",
   "id": "0c3bdb1c",
   "metadata": {},
   "source": [
    "The type specifier (i4 in the above case) can take different forms:\n",
    "\n",
    "* b1, i1, i2, i4, i8, u1, u2, u4, u8, f2, f4, f8, c8, c16, a \n",
    "   (representing bytes, ints, unsigned ints, floats, complex and \n",
    "    fixed-length strings of specified byte lengths)\n",
    "* int8,…,uint8,…,float16, float32, float64, complex64, complex128 \n",
    "   (this time with bit sizes)"
   ]
  },
  {
   "cell_type": "code",
   "execution_count": 27,
   "id": "6b3cda4a",
   "metadata": {},
   "outputs": [
    {
     "name": "stdout",
     "output_type": "stream",
     "text": [
      "type is:  <class 'numpy.ndarray'>\n",
      "dtype is:  int32\n"
     ]
    }
   ],
   "source": [
    "# Python program to differentiate\n",
    "# between type and dtype.\n",
    "\n",
    "import numpy as np\n",
    "\n",
    "a = np.array([1])\n",
    "\n",
    "print(\"type is: \",type(a))\n",
    "print(\"dtype is: \",a.dtype)\n"
   ]
  },
  {
   "cell_type": "markdown",
   "id": "9317ed4f",
   "metadata": {},
   "source": [
    "**2. Data type Objects with Structured Arrays:** Data type objects are useful for creating structured arrays.  A structured array is one that contains different types of data. Structured arrays can be accessed with the help of fields.\n",
    "\n",
    "A field is like specifying a name to the object. In the case of structured arrays, the dtype object will also be structured.  "
   ]
  },
  {
   "cell_type": "code",
   "execution_count": 28,
   "id": "b1728595",
   "metadata": {},
   "outputs": [
    {
     "name": "stdout",
     "output_type": "stream",
     "text": [
      "('<f8', (2,))\n",
      "<U16\n"
     ]
    }
   ],
   "source": [
    "# Python program for demonstrating\n",
    "# the use of fields\n",
    "import numpy as np\n",
    "\n",
    "# A structured data type containing a 16-character string (in field ‘name’)\n",
    "# and a sub-array of two 64-bit floating-point number (in field ‘grades’):\n",
    "\n",
    "dt = np.dtype([('name', np.unicode_, 16), ('grades', np.float64, (2,))])\n",
    "\n",
    "# Data type of object with field grades\n",
    "print(dt['grades'])\n",
    "\n",
    "# Data type of object with field name\n",
    "print(dt['name'])\n"
   ]
  },
  {
   "cell_type": "code",
   "execution_count": 29,
   "id": "e8b93b91",
   "metadata": {},
   "outputs": [
    {
     "name": "stdout",
     "output_type": "stream",
     "text": [
      "('John', [6., 7.])\n",
      "Grades of John are:  [6. 7.]\n",
      "Names are:  ['Sarah' 'John']\n"
     ]
    }
   ],
   "source": [
    "# Python program to demonstrate\n",
    "# the use of data type object with structured array.\n",
    "\n",
    "import numpy as np\n",
    "\n",
    "dt = np.dtype([('name', np.unicode_, 16), ('grades', np.float64, (2,))])\n",
    "\n",
    "# x is a structured array with names and marks of students.\n",
    "# Data type of name of the student is np.unicode_ and\n",
    "# data type of marks is np.float(64)\n",
    "\n",
    "x = np.array([('Sarah', (8.0, 7.0)), ('John', (6.0, 7.0))], dtype=dt)\n",
    "\n",
    "print(x[1])\n",
    "print(\"Grades of John are: \",x[1]['grades'])\n",
    "print(\"Names are: \",x['name'])\n"
   ]
  },
  {
   "cell_type": "code",
   "execution_count": 30,
   "id": "37537bf5",
   "metadata": {},
   "outputs": [
    {
     "name": "stdout",
     "output_type": "stream",
     "text": [
      "('John', [6., 7.])\n",
      "Grades of John are:  [6. 7.]\n",
      "Names are:  ['Sarah' 'John']\n"
     ]
    }
   ],
   "source": [
    "# Python program to demonstrate\n",
    "# the use of data type object with structured array.\n",
    "import numpy as np\n",
    "\n",
    "dt = np.dtype([('name', np.unicode_, 16), ('grades', np.float64, (2,))])\n",
    "\n",
    "# x is a structured array with names and marks of students.\n",
    "# Data type of name of the student is np.unicode_ and\n",
    "# data type of marks is np.float(64)\n",
    "x = np.array([('Sarah', (8.0, 7.0)), ('John', (6.0, 7.0))], dtype=dt)\n",
    "\n",
    "print(x[1])\n",
    "print(\"Grades of John are: \",x[1]['grades'])\n",
    "print(\"Names are: \",x['name'])\n"
   ]
  },
  {
   "cell_type": "code",
   "execution_count": null,
   "id": "253b2451",
   "metadata": {},
   "outputs": [],
   "source": []
  }
 ],
 "metadata": {
  "kernelspec": {
   "display_name": "Python 3 (ipykernel)",
   "language": "python",
   "name": "python3"
  },
  "language_info": {
   "codemirror_mode": {
    "name": "ipython",
    "version": 3
   },
   "file_extension": ".py",
   "mimetype": "text/x-python",
   "name": "python",
   "nbconvert_exporter": "python",
   "pygments_lexer": "ipython3",
   "version": "3.11.0"
  }
 },
 "nbformat": 4,
 "nbformat_minor": 5
}
